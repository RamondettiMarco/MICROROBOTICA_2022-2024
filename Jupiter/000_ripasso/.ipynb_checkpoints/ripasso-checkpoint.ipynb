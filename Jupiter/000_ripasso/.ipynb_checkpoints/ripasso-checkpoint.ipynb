{
 "cells": [
  {
   "cell_type": "code",
   "execution_count": 1,
   "id": "8c24e837",
   "metadata": {},
   "outputs": [],
   "source": [
    "l1 = [1, 2, 'ciao', 5.0]"
   ]
  },
  {
   "cell_type": "code",
   "execution_count": 2,
   "id": "b9acaf6c",
   "metadata": {},
   "outputs": [
    {
     "data": {
      "text/plain": [
       "[1, 2, 'ciao', 5.0]"
      ]
     },
     "execution_count": 2,
     "metadata": {},
     "output_type": "execute_result"
    }
   ],
   "source": [
    "l1"
   ]
  },
  {
   "cell_type": "markdown",
   "id": "226f411b",
   "metadata": {},
   "source": [
    "##### Slicing"
   ]
  },
  {
   "cell_type": "code",
   "execution_count": 3,
   "id": "82d8b31e",
   "metadata": {},
   "outputs": [
    {
     "name": "stdout",
     "output_type": "stream",
     "text": [
      "[1, 2]\n"
     ]
    }
   ],
   "source": [
    "print(l1[:2])"
   ]
  },
  {
   "cell_type": "code",
   "execution_count": 4,
   "id": "69b8378d",
   "metadata": {},
   "outputs": [
    {
     "name": "stdout",
     "output_type": "stream",
     "text": [
      "1\n",
      "2\n",
      "ciao\n",
      "5.0\n"
     ]
    }
   ],
   "source": [
    "for x in l1:\n",
    "    print(x)"
   ]
  },
  {
   "cell_type": "markdown",
   "id": "0f48dda2",
   "metadata": {},
   "source": [
    "ciclo for sulla posizione e sull'elemento"
   ]
  },
  {
   "cell_type": "code",
   "execution_count": 5,
   "id": "2764aeaa",
   "metadata": {},
   "outputs": [
    {
     "name": "stdout",
     "output_type": "stream",
     "text": [
      "0 1\n",
      "1 2\n",
      "2 ciao\n",
      "3 5.0\n"
     ]
    }
   ],
   "source": [
    "for i, elemento in enumerate(l1):\n",
    "    print(i, elemento)"
   ]
  },
  {
   "cell_type": "code",
   "execution_count": 6,
   "id": "f8a2f964",
   "metadata": {},
   "outputs": [],
   "source": [
    "l2 = [4, 5, 6, 7]"
   ]
  },
  {
   "cell_type": "markdown",
   "id": "0163c15c",
   "metadata": {},
   "source": [
    "ciclo for su liste di lunghezza uguale"
   ]
  },
  {
   "cell_type": "code",
   "execution_count": 7,
   "id": "4a2f833c",
   "metadata": {},
   "outputs": [
    {
     "name": "stdout",
     "output_type": "stream",
     "text": [
      "1 4\n",
      "2 5\n",
      "ciao 6\n",
      "5.0 7\n"
     ]
    }
   ],
   "source": [
    "for elementoL1, elementoL2 in zip(l1, l2):\n",
    "    print(elementoL1, elementoL2)"
   ]
  },
  {
   "cell_type": "markdown",
   "id": "7a9081f8",
   "metadata": {},
   "source": [
    "assegnazione multipla e scambio"
   ]
  },
  {
   "cell_type": "code",
   "execution_count": 8,
   "id": "c93fdcd5",
   "metadata": {},
   "outputs": [],
   "source": [
    "a, b = 1, 2\n"
   ]
  },
  {
   "cell_type": "code",
   "execution_count": 14,
   "id": "95734015",
   "metadata": {},
   "outputs": [
    {
     "name": "stdout",
     "output_type": "stream",
     "text": [
      "1 2\n"
     ]
    }
   ],
   "source": [
    "print(a, b)"
   ]
  },
  {
   "cell_type": "code",
   "execution_count": 15,
   "id": "d0f40d7a",
   "metadata": {},
   "outputs": [],
   "source": [
    "a, b = b, a"
   ]
  },
  {
   "cell_type": "code",
   "execution_count": 16,
   "id": "a26113fa",
   "metadata": {},
   "outputs": [
    {
     "name": "stdout",
     "output_type": "stream",
     "text": [
      "2 1\n"
     ]
    }
   ],
   "source": [
    "print(a, b)"
   ]
  },
  {
   "cell_type": "code",
   "execution_count": 19,
   "id": "17a9c1cf",
   "metadata": {},
   "outputs": [],
   "source": [
    "def somma(x, y):\n",
    "    return x + y"
   ]
  },
  {
   "cell_type": "code",
   "execution_count": 20,
   "id": "37c7a8f9",
   "metadata": {},
   "outputs": [
    {
     "name": "stdout",
     "output_type": "stream",
     "text": [
      "8\n"
     ]
    }
   ],
   "source": [
    "print(somma(3, 5))"
   ]
  },
  {
   "cell_type": "markdown",
   "id": "13e248b9",
   "metadata": {},
   "source": [
    "PARAMETRI DI DEFAULT: se non passo quel parametro alla mia funzione, assegna alla varibiale il valore che gli assegno di default"
   ]
  },
  {
   "cell_type": "code",
   "execution_count": 21,
   "id": "f0f49cca",
   "metadata": {},
   "outputs": [
    {
     "name": "stdout",
     "output_type": "stream",
     "text": [
      "6\n"
     ]
    }
   ],
   "source": [
    "def somma(x, y=1):\n",
    "    return x + y\n",
    "print(somma(5))"
   ]
  },
  {
   "cell_type": "code",
   "execution_count": 22,
   "id": "3a8b9a9e",
   "metadata": {},
   "outputs": [],
   "source": [
    "def somma_e_prodotto(x, y):\n",
    "    return (x + y, x*y)"
   ]
  },
  {
   "cell_type": "code",
   "execution_count": 24,
   "id": "ca7e2601",
   "metadata": {},
   "outputs": [
    {
     "name": "stdout",
     "output_type": "stream",
     "text": [
      "SOMMA E PRODOTTO (8, 15)\n"
     ]
    }
   ],
   "source": [
    "print(f\"SOMMA E PRODOTTO {somma_e_prodotto(5, 3)}\")"
   ]
  },
  {
   "cell_type": "markdown",
   "id": "3eb3e095",
   "metadata": {},
   "source": [
    "con _ non salvo il valore perché non mi interessa. Non vado a utilizzare male una porzione di memoria."
   ]
  },
  {
   "cell_type": "code",
   "execution_count": 26,
   "id": "0ad11c72",
   "metadata": {},
   "outputs": [],
   "source": [
    "_, p = somma_e_prodotto(5, 3)"
   ]
  },
  {
   "cell_type": "code",
   "execution_count": 27,
   "id": "8a22539b",
   "metadata": {},
   "outputs": [
    {
     "name": "stdout",
     "output_type": "stream",
     "text": [
      "<function somma_e_prodotto at 0x0000019C6B2468B0>\n"
     ]
    }
   ],
   "source": [
    "print(somma_e_prodotto)"
   ]
  },
  {
   "cell_type": "code",
   "execution_count": null,
   "id": "c80a8e87",
   "metadata": {},
   "outputs": [],
   "source": []
  }
 ],
 "metadata": {
  "kernelspec": {
   "display_name": "Python 3 (ipykernel)",
   "language": "python",
   "name": "python3"
  },
  "language_info": {
   "codemirror_mode": {
    "name": "ipython",
    "version": 3
   },
   "file_extension": ".py",
   "mimetype": "text/x-python",
   "name": "python",
   "nbconvert_exporter": "python",
   "pygments_lexer": "ipython3",
   "version": "3.9.12"
  }
 },
 "nbformat": 4,
 "nbformat_minor": 5
}
