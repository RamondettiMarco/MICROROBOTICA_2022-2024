{
 "cells": [
  {
   "cell_type": "markdown",
   "id": "fdc4c689",
   "metadata": {},
   "source": [
    "### Esercizio 5 pagina 93\n",
    "\n",
    "Considera l'array: Z = [1,  2,  3,  4,  5,  6,  7,  8,  9, 10, 11, 12, 13, 14]. Genera un array R = [\n",
    "       [ 1,  2,  3,  4],\n",
    "       [ 2,  3,  4,  5],\n",
    "       [ 3,  4,  5,  6],\n",
    "       [ 4,  5,  6,  7],\n",
    "       [ 5,  6,  7,  8],\n",
    "       [ 6,  7,  8,  9],\n",
    "       [ 7,  8,  9, 10],\n",
    "       [ 8,  9, 10, 11],\n",
    "       [ 9, 10, 11, 12],\n",
    "       [10, 11, 12, 13],\n",
    "       [11, 12, 13, 14]]"
   ]
  },
  {
   "cell_type": "code",
   "execution_count": 1,
   "id": "1e9bf944",
   "metadata": {},
   "outputs": [],
   "source": [
    "import numpy as np"
   ]
  },
  {
   "cell_type": "code",
   "execution_count": 63,
   "id": "9d5f68d5",
   "metadata": {},
   "outputs": [
    {
     "data": {
      "text/plain": [
       "array([ 1,  2,  3,  4,  5,  6,  7,  8,  9, 10, 11, 12, 13, 14])"
      ]
     },
     "execution_count": 63,
     "metadata": {},
     "output_type": "execute_result"
    }
   ],
   "source": [
    "array_z = np.arange(1,15)\n",
    "array_z"
   ]
  },
  {
   "cell_type": "code",
   "execution_count": 52,
   "id": "5b8a11d6",
   "metadata": {},
   "outputs": [],
   "source": [
    "array_r = []\n",
    "r = []\n",
    "for i in range(array_z.size):\n",
    "    if i < (array_z.size - 3):\n",
    "        for k in range(4):\n",
    "            r.append(array_z[i + k])\n",
    "        array_r.append(r)  \n",
    "        r = []"
   ]
  },
  {
   "cell_type": "code",
   "execution_count": 53,
   "id": "d40fd4cf",
   "metadata": {},
   "outputs": [
    {
     "data": {
      "text/plain": [
       "array([[ 1,  2,  3,  4],\n",
       "       [ 2,  3,  4,  5],\n",
       "       [ 3,  4,  5,  6],\n",
       "       [ 4,  5,  6,  7],\n",
       "       [ 5,  6,  7,  8],\n",
       "       [ 6,  7,  8,  9],\n",
       "       [ 7,  8,  9, 10],\n",
       "       [ 8,  9, 10, 11],\n",
       "       [ 9, 10, 11, 12],\n",
       "       [10, 11, 12, 13],\n",
       "       [11, 12, 13, 14]])"
      ]
     },
     "execution_count": 53,
     "metadata": {},
     "output_type": "execute_result"
    }
   ],
   "source": [
    "np.array(array_r)"
   ]
  },
  {
   "cell_type": "code",
   "execution_count": 65,
   "id": "d68ea476",
   "metadata": {},
   "outputs": [
    {
     "data": {
      "text/plain": [
       "array([[ 1,  2,  3,  4],\n",
       "       [ 2,  3,  4,  5],\n",
       "       [ 3,  4,  5,  6],\n",
       "       [ 4,  5,  6,  7],\n",
       "       [ 5,  6,  7,  8],\n",
       "       [ 6,  7,  8,  9],\n",
       "       [ 7,  8,  9, 10],\n",
       "       [ 8,  9, 10, 11],\n",
       "       [ 9, 10, 11, 12],\n",
       "       [10, 11, 12, 13],\n",
       "       [11, 12, 13, 14]])"
      ]
     },
     "execution_count": 65,
     "metadata": {},
     "output_type": "execute_result"
    }
   ],
   "source": [
    "np.array([array_z[i:i+4] for i in range(0,11)])"
   ]
  },
  {
   "cell_type": "code",
   "execution_count": null,
   "id": "707d3cd9",
   "metadata": {},
   "outputs": [],
   "source": []
  }
 ],
 "metadata": {
  "kernelspec": {
   "display_name": "Python 3 (ipykernel)",
   "language": "python",
   "name": "python3"
  },
  "language_info": {
   "codemirror_mode": {
    "name": "ipython",
    "version": 3
   },
   "file_extension": ".py",
   "mimetype": "text/x-python",
   "name": "python",
   "nbconvert_exporter": "python",
   "pygments_lexer": "ipython3",
   "version": "3.9.12"
  }
 },
 "nbformat": 4,
 "nbformat_minor": 5
}
