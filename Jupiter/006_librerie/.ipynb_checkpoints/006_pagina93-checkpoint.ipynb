{
 "cells": [
  {
   "cell_type": "code",
   "execution_count": 2,
   "id": "bd977e2f",
   "metadata": {},
   "outputs": [],
   "source": [
    "import numpy as np"
   ]
  },
  {
   "cell_type": "markdown",
   "id": "25285199",
   "metadata": {},
   "source": [
    "### Esercizio 1"
   ]
  },
  {
   "cell_type": "code",
   "execution_count": 3,
   "id": "a5ba66b1",
   "metadata": {},
   "outputs": [
    {
     "data": {
      "text/plain": [
       "array([0, 1, 2, 3, 4, 5, 6, 7, 8, 9])"
      ]
     },
     "execution_count": 3,
     "metadata": {},
     "output_type": "execute_result"
    }
   ],
   "source": [
    "array = np.arange(0,10)\n",
    "array"
   ]
  },
  {
   "cell_type": "code",
   "execution_count": 4,
   "id": "90216620",
   "metadata": {},
   "outputs": [],
   "source": [
    "array_inervertito = array[::-1]"
   ]
  },
  {
   "cell_type": "code",
   "execution_count": 5,
   "id": "a122cddd",
   "metadata": {},
   "outputs": [
    {
     "data": {
      "text/plain": [
       "array([9, 8, 7, 6, 5, 4, 3, 2, 1, 0])"
      ]
     },
     "execution_count": 5,
     "metadata": {},
     "output_type": "execute_result"
    }
   ],
   "source": [
    "array_inervertito"
   ]
  },
  {
   "cell_type": "markdown",
   "id": "8e7f6f03",
   "metadata": {},
   "source": [
    "### Esercizio 2"
   ]
  },
  {
   "cell_type": "code",
   "execution_count": null,
   "id": "8135d6ff",
   "metadata": {},
   "outputs": [],
   "source": []
  },
  {
   "cell_type": "markdown",
   "id": "927cc840",
   "metadata": {},
   "source": [
    "### Esercizio 4"
   ]
  },
  {
   "cell_type": "code",
   "execution_count": 6,
   "id": "1d6b3bd9",
   "metadata": {},
   "outputs": [],
   "source": [
    "def fibonacci(n):\n",
    "    if n > 1:\n",
    "        return fibonacci(n-1) + fibonacci(n-2)\n",
    "    return n"
   ]
  },
  {
   "cell_type": "code",
   "execution_count": 8,
   "id": "a01e20dc",
   "metadata": {},
   "outputs": [],
   "source": [
    "n = 10\n",
    "array_fibonacci = []\n",
    "for i in range(1, n+1):\n",
    "    array_fibonacci.append(fibonacci(i))"
   ]
  },
  {
   "cell_type": "code",
   "execution_count": 11,
   "id": "c195214b",
   "metadata": {},
   "outputs": [
    {
     "data": {
      "text/plain": [
       "array([ 1,  1,  2,  3,  5,  8, 13, 21, 34, 55])"
      ]
     },
     "execution_count": 11,
     "metadata": {},
     "output_type": "execute_result"
    }
   ],
   "source": [
    "np.array(array_fibonacci)"
   ]
  },
  {
   "cell_type": "markdown",
   "id": "e3869c17",
   "metadata": {},
   "source": [
    "### Esercizio 5"
   ]
  },
  {
   "cell_type": "code",
   "execution_count": 13,
   "id": "07fff2b5",
   "metadata": {},
   "outputs": [
    {
     "data": {
      "text/plain": [
       "array([ 1,  2,  3,  4,  5,  6,  7,  8,  9, 10, 11, 12, 13, 14])"
      ]
     },
     "execution_count": 13,
     "metadata": {},
     "output_type": "execute_result"
    }
   ],
   "source": [
    "array_z = np.arange(1,15)\n",
    "array_z"
   ]
  },
  {
   "cell_type": "code",
   "execution_count": 14,
   "id": "155cdda4",
   "metadata": {},
   "outputs": [],
   "source": [
    "array_r = []\n",
    "r = []\n",
    "for i in range(array_z.size):\n",
    "    if i < (array_z.size - 3):\n",
    "        for k in range(4):\n",
    "            r.append(array_z[i + k])\n",
    "        array_r.append(r)  \n",
    "        r = []"
   ]
  },
  {
   "cell_type": "code",
   "execution_count": 15,
   "id": "a5f35d7a",
   "metadata": {},
   "outputs": [
    {
     "data": {
      "text/plain": [
       "array([[ 1,  2,  3,  4],\n",
       "       [ 2,  3,  4,  5],\n",
       "       [ 3,  4,  5,  6],\n",
       "       [ 4,  5,  6,  7],\n",
       "       [ 5,  6,  7,  8],\n",
       "       [ 6,  7,  8,  9],\n",
       "       [ 7,  8,  9, 10],\n",
       "       [ 8,  9, 10, 11],\n",
       "       [ 9, 10, 11, 12],\n",
       "       [10, 11, 12, 13],\n",
       "       [11, 12, 13, 14]])"
      ]
     },
     "execution_count": 15,
     "metadata": {},
     "output_type": "execute_result"
    }
   ],
   "source": [
    "np.array(array_r)"
   ]
  },
  {
   "cell_type": "code",
   "execution_count": 16,
   "id": "f1c0f5c2",
   "metadata": {},
   "outputs": [
    {
     "data": {
      "text/plain": [
       "array([[ 1,  2,  3,  4],\n",
       "       [ 2,  3,  4,  5],\n",
       "       [ 3,  4,  5,  6],\n",
       "       [ 4,  5,  6,  7],\n",
       "       [ 5,  6,  7,  8],\n",
       "       [ 6,  7,  8,  9],\n",
       "       [ 7,  8,  9, 10],\n",
       "       [ 8,  9, 10, 11],\n",
       "       [ 9, 10, 11, 12],\n",
       "       [10, 11, 12, 13],\n",
       "       [11, 12, 13, 14]])"
      ]
     },
     "execution_count": 16,
     "metadata": {},
     "output_type": "execute_result"
    }
   ],
   "source": [
    "np.array([array_z[i:i+4] for i in range(0,11)])"
   ]
  },
  {
   "cell_type": "markdown",
   "id": "bcb6eeee",
   "metadata": {},
   "source": [
    "### Esercizio 6"
   ]
  },
  {
   "cell_type": "code",
   "execution_count": 18,
   "id": "d033545b",
   "metadata": {},
   "outputs": [],
   "source": [
    "n = 8\n",
    "m = 8"
   ]
  },
  {
   "cell_type": "code",
   "execution_count": 19,
   "id": "021082e0",
   "metadata": {},
   "outputs": [
    {
     "data": {
      "text/plain": [
       "array([[0, 0, 0, 0, 0, 0, 0, 0],\n",
       "       [0, 0, 0, 0, 0, 0, 0, 0],\n",
       "       [0, 0, 0, 0, 0, 0, 0, 0],\n",
       "       [0, 0, 0, 0, 0, 0, 0, 0],\n",
       "       [0, 0, 0, 0, 0, 0, 0, 0],\n",
       "       [0, 0, 0, 0, 0, 0, 0, 0],\n",
       "       [0, 0, 0, 0, 0, 0, 0, 0],\n",
       "       [0, 0, 0, 0, 0, 0, 0, 0]], dtype=int8)"
      ]
     },
     "execution_count": 19,
     "metadata": {},
     "output_type": "execute_result"
    }
   ],
   "source": [
    "array_2d = np.zeros((n,m), np.int8)\n",
    "array_2d"
   ]
  },
  {
   "cell_type": "code",
   "execution_count": 21,
   "id": "8aafea7b",
   "metadata": {},
   "outputs": [],
   "source": [
    "array_2d[1::2,::2] = 1\n",
    "array_2d[::2,1::2] = 1"
   ]
  },
  {
   "cell_type": "code",
   "execution_count": 22,
   "id": "a10d7d8d",
   "metadata": {},
   "outputs": [
    {
     "data": {
      "text/plain": [
       "array([[0, 1, 0, 1, 0, 1, 0, 1],\n",
       "       [1, 0, 1, 0, 1, 0, 1, 0],\n",
       "       [0, 1, 0, 1, 0, 1, 0, 1],\n",
       "       [1, 0, 1, 0, 1, 0, 1, 0],\n",
       "       [0, 1, 0, 1, 0, 1, 0, 1],\n",
       "       [1, 0, 1, 0, 1, 0, 1, 0],\n",
       "       [0, 1, 0, 1, 0, 1, 0, 1],\n",
       "       [1, 0, 1, 0, 1, 0, 1, 0]], dtype=int8)"
      ]
     },
     "execution_count": 22,
     "metadata": {},
     "output_type": "execute_result"
    }
   ],
   "source": [
    "array_2d"
   ]
  },
  {
   "cell_type": "markdown",
   "id": "c50d0481",
   "metadata": {},
   "source": [
    "### Esercizio 7"
   ]
  },
  {
   "cell_type": "code",
   "execution_count": 56,
   "id": "a19d32ad",
   "metadata": {},
   "outputs": [],
   "source": [
    "n = m = 10"
   ]
  },
  {
   "cell_type": "code",
   "execution_count": 95,
   "id": "6fef9c31",
   "metadata": {},
   "outputs": [],
   "source": [
    "array = np.zeros((n,m), np.int8)"
   ]
  },
  {
   "cell_type": "code",
   "execution_count": 96,
   "id": "c76882e7",
   "metadata": {},
   "outputs": [
    {
     "data": {
      "text/plain": [
       "array([[0, 0, 0, 0, 0, 0, 0, 0, 0, 0],\n",
       "       [0, 0, 0, 0, 0, 0, 0, 0, 0, 0],\n",
       "       [0, 0, 0, 0, 0, 0, 0, 0, 0, 0],\n",
       "       [0, 0, 0, 0, 0, 0, 0, 0, 0, 0],\n",
       "       [0, 0, 0, 0, 0, 0, 0, 0, 0, 0],\n",
       "       [0, 0, 0, 0, 0, 0, 0, 0, 0, 0],\n",
       "       [0, 0, 0, 0, 0, 0, 0, 0, 0, 0],\n",
       "       [0, 0, 0, 0, 0, 0, 0, 0, 0, 0],\n",
       "       [0, 0, 0, 0, 0, 0, 0, 0, 0, 0],\n",
       "       [0, 0, 0, 0, 0, 0, 0, 0, 0, 0]], dtype=int8)"
      ]
     },
     "execution_count": 96,
     "metadata": {},
     "output_type": "execute_result"
    }
   ],
   "source": [
    "array"
   ]
  },
  {
   "cell_type": "code",
   "execution_count": 97,
   "id": "ed5749b7",
   "metadata": {},
   "outputs": [],
   "source": [
    "array[0] = 1\n",
    "array[-1] = 1\n"
   ]
  },
  {
   "cell_type": "code",
   "execution_count": 98,
   "id": "18771658",
   "metadata": {},
   "outputs": [
    {
     "data": {
      "text/plain": [
       "array([[1, 1, 1, 1, 1, 1, 1, 1, 1, 1],\n",
       "       [0, 0, 0, 0, 0, 0, 0, 0, 0, 0],\n",
       "       [0, 0, 0, 0, 0, 0, 0, 0, 0, 0],\n",
       "       [0, 0, 0, 0, 0, 0, 0, 0, 0, 0],\n",
       "       [0, 0, 0, 0, 0, 0, 0, 0, 0, 0],\n",
       "       [0, 0, 0, 0, 0, 0, 0, 0, 0, 0],\n",
       "       [0, 0, 0, 0, 0, 0, 0, 0, 0, 0],\n",
       "       [0, 0, 0, 0, 0, 0, 0, 0, 0, 0],\n",
       "       [0, 0, 0, 0, 0, 0, 0, 0, 0, 0],\n",
       "       [1, 1, 1, 1, 1, 1, 1, 1, 1, 1]], dtype=int8)"
      ]
     },
     "execution_count": 98,
     "metadata": {},
     "output_type": "execute_result"
    }
   ],
   "source": [
    "array"
   ]
  },
  {
   "cell_type": "markdown",
   "id": "4edb3940",
   "metadata": {},
   "source": [
    "### Esercizio 8"
   ]
  },
  {
   "cell_type": "code",
   "execution_count": 101,
   "id": "c3086b1d",
   "metadata": {},
   "outputs": [],
   "source": [
    "array1 = np.random.randint(1,7,10)\n",
    "array2 = np.random.randint(1,7,12)"
   ]
  },
  {
   "cell_type": "code",
   "execution_count": 102,
   "id": "e87f02c5",
   "metadata": {},
   "outputs": [
    {
     "data": {
      "text/plain": [
       "array([4, 2, 3, 6, 4, 4, 1, 1, 1, 2])"
      ]
     },
     "execution_count": 102,
     "metadata": {},
     "output_type": "execute_result"
    }
   ],
   "source": [
    "array1"
   ]
  },
  {
   "cell_type": "code",
   "execution_count": 103,
   "id": "34e0aa44",
   "metadata": {},
   "outputs": [
    {
     "data": {
      "text/plain": [
       "array([2, 1, 2, 6, 2, 2, 5, 6, 2, 6, 3, 4])"
      ]
     },
     "execution_count": 103,
     "metadata": {},
     "output_type": "execute_result"
    }
   ],
   "source": [
    "array2"
   ]
  },
  {
   "cell_type": "code",
   "execution_count": null,
   "id": "f978a7a3",
   "metadata": {},
   "outputs": [],
   "source": [
    "if array1.size < array2.size:\n",
    "    "
   ]
  }
 ],
 "metadata": {
  "kernelspec": {
   "display_name": "Python 3 (ipykernel)",
   "language": "python",
   "name": "python3"
  },
  "language_info": {
   "codemirror_mode": {
    "name": "ipython",
    "version": 3
   },
   "file_extension": ".py",
   "mimetype": "text/x-python",
   "name": "python",
   "nbconvert_exporter": "python",
   "pygments_lexer": "ipython3",
   "version": "3.9.12"
  }
 },
 "nbformat": 4,
 "nbformat_minor": 5
}
