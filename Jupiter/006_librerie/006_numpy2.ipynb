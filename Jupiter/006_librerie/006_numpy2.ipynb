{
 "cells": [
  {
   "cell_type": "code",
   "execution_count": 1,
   "id": "d2fa84ff",
   "metadata": {},
   "outputs": [],
   "source": [
    "import numpy as np"
   ]
  },
  {
   "cell_type": "markdown",
   "id": "2c283bb0",
   "metadata": {},
   "source": [
    "BROADCAST: combinare gli array  mediante operazioni matematiche, funziona sempre a patto che le dimensioni dell'array siano compatibili."
   ]
  },
  {
   "cell_type": "code",
   "execution_count": 4,
   "id": "4b1d08ef",
   "metadata": {},
   "outputs": [
    {
     "data": {
      "text/plain": [
       "array([ 2,  4,  6,  8, 10])"
      ]
     },
     "execution_count": 4,
     "metadata": {},
     "output_type": "execute_result"
    }
   ],
   "source": [
    "array1 = np.array([1, 2, 3, 4, 5])\n",
    "array1 * 2"
   ]
  },
  {
   "cell_type": "code",
   "execution_count": 7,
   "id": "f53f786a",
   "metadata": {},
   "outputs": [
    {
     "data": {
      "text/plain": [
       "array([  2.71828183,   7.3890561 ,  20.08553692,  54.59815003,\n",
       "       148.4131591 ])"
      ]
     },
     "execution_count": 7,
     "metadata": {},
     "output_type": "execute_result"
    }
   ],
   "source": [
    "np.exp(array1)"
   ]
  },
  {
   "cell_type": "code",
   "execution_count": 9,
   "id": "087118b7",
   "metadata": {},
   "outputs": [
    {
     "data": {
      "text/plain": [
       "array([1.        , 1.41421356, 1.73205081, 2.        , 2.23606798])"
      ]
     },
     "execution_count": 9,
     "metadata": {},
     "output_type": "execute_result"
    }
   ],
   "source": [
    "np.sqrt(array1)"
   ]
  },
  {
   "cell_type": "code",
   "execution_count": 11,
   "id": "a555c937",
   "metadata": {},
   "outputs": [
    {
     "data": {
      "text/plain": [
       "array([11, 12, 13, 14, 15])"
      ]
     },
     "execution_count": 11,
     "metadata": {},
     "output_type": "execute_result"
    }
   ],
   "source": [
    "array1 + 10"
   ]
  },
  {
   "cell_type": "code",
   "execution_count": 13,
   "id": "af1465cb",
   "metadata": {},
   "outputs": [
    {
     "data": {
      "text/plain": [
       "array([-1, -2, -3, -4, -5])"
      ]
     },
     "execution_count": 13,
     "metadata": {},
     "output_type": "execute_result"
    }
   ],
   "source": [
    "array2 = np.array([-1, -2, -3, -4, -5])\n",
    "array2"
   ]
  },
  {
   "cell_type": "code",
   "execution_count": 20,
   "id": "f47b9d6d",
   "metadata": {},
   "outputs": [
    {
     "data": {
      "text/plain": [
       "array([0, 0, 0, 0, 0])"
      ]
     },
     "execution_count": 20,
     "metadata": {},
     "output_type": "execute_result"
    }
   ],
   "source": [
    "array1 + array2     #somma elemento per elemento, DIMENSIONE ARRAY UGUALE ALTRIMENTI NON FUNZIONA"
   ]
  },
  {
   "cell_type": "code",
   "execution_count": 21,
   "id": "04c1db65",
   "metadata": {},
   "outputs": [
    {
     "data": {
      "text/plain": [
       "array([ -1,  -4,  -9, -16, -25])"
      ]
     },
     "execution_count": 21,
     "metadata": {},
     "output_type": "execute_result"
    }
   ],
   "source": [
    "array1 * array2"
   ]
  },
  {
   "cell_type": "code",
   "execution_count": 32,
   "id": "95c04156",
   "metadata": {},
   "outputs": [],
   "source": [
    "matrice1 = np.ones((5, 5))    \n",
    "matrice2 = np.random.uniform(0,1,(5, 5))"
   ]
  },
  {
   "cell_type": "code",
   "execution_count": 33,
   "id": "ce4f75b9",
   "metadata": {},
   "outputs": [
    {
     "data": {
      "text/plain": [
       "array([[0.90241439, 0.10163525, 0.55409943, 0.81103231, 0.38698022],\n",
       "       [0.9184647 , 0.0941332 , 0.34733329, 0.35111695, 0.39737128],\n",
       "       [0.00932311, 0.18638205, 0.24254987, 0.54356677, 0.64388681],\n",
       "       [0.60662062, 0.67588038, 0.23258985, 0.29278684, 0.54165191],\n",
       "       [0.16342679, 0.10256256, 0.67208364, 0.05698554, 0.64751383]])"
      ]
     },
     "execution_count": 33,
     "metadata": {},
     "output_type": "execute_result"
    }
   ],
   "source": [
    "#solo se dimensione uguale\n",
    "matrice1 * matrice2"
   ]
  },
  {
   "cell_type": "code",
   "execution_count": 34,
   "id": "42be322f",
   "metadata": {},
   "outputs": [],
   "source": [
    "matrice1 = np.ones((5, 5))    \n",
    "matrice2 = np.random.uniform(0,1,(5, 1))"
   ]
  },
  {
   "cell_type": "code",
   "execution_count": 36,
   "id": "9f5d6faa",
   "metadata": {},
   "outputs": [
    {
     "data": {
      "text/plain": [
       "array([[1.52634856, 1.52634856, 1.52634856, 1.52634856, 1.52634856],\n",
       "       [1.61444432, 1.61444432, 1.61444432, 1.61444432, 1.61444432],\n",
       "       [1.42710719, 1.42710719, 1.42710719, 1.42710719, 1.42710719],\n",
       "       [1.61997709, 1.61997709, 1.61997709, 1.61997709, 1.61997709],\n",
       "       [1.58013044, 1.58013044, 1.58013044, 1.58013044, 1.58013044]])"
      ]
     },
     "execution_count": 36,
     "metadata": {},
     "output_type": "execute_result"
    }
   ],
   "source": [
    "matrice1 + matrice2     #somma colonna per colonna"
   ]
  },
  {
   "cell_type": "code",
   "execution_count": 38,
   "id": "8025f5fe",
   "metadata": {},
   "outputs": [
    {
     "data": {
      "text/plain": [
       "array([[5., 5., 5., 5., 5.],\n",
       "       [5., 5., 5., 5., 5.],\n",
       "       [5., 5., 5., 5., 5.],\n",
       "       [5., 5., 5., 5., 5.],\n",
       "       [5., 5., 5., 5., 5.]])"
      ]
     },
     "execution_count": 38,
     "metadata": {},
     "output_type": "execute_result"
    }
   ],
   "source": [
    "matrice_5 = np.ones((5,5)) + 4\n",
    "matrice_5"
   ]
  },
  {
   "cell_type": "code",
   "execution_count": null,
   "id": "0b7aebae",
   "metadata": {},
   "outputs": [],
   "source": []
  }
 ],
 "metadata": {
  "kernelspec": {
   "display_name": "Python 3 (ipykernel)",
   "language": "python",
   "name": "python3"
  },
  "language_info": {
   "codemirror_mode": {
    "name": "ipython",
    "version": 3
   },
   "file_extension": ".py",
   "mimetype": "text/x-python",
   "name": "python",
   "nbconvert_exporter": "python",
   "pygments_lexer": "ipython3",
   "version": "3.9.12"
  }
 },
 "nbformat": 4,
 "nbformat_minor": 5
}
