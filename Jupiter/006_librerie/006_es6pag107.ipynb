{
 "cells": [
  {
   "cell_type": "markdown",
   "id": "ab8e38df",
   "metadata": {},
   "source": [
    "Considera un array monodirezionale di numeri interi compresi tra 0 e 9, generato casualmente, e trova le posizioni dell'array in cui compare la sequenza di numeri [1,2,3]"
   ]
  },
  {
   "cell_type": "code",
   "execution_count": 2,
   "id": "f87187d6",
   "metadata": {},
   "outputs": [],
   "source": [
    "import numpy as np"
   ]
  },
  {
   "cell_type": "code",
   "execution_count": 16,
   "id": "c39fda42",
   "metadata": {},
   "outputs": [],
   "source": [
    "array_monodirezionale = np.random.randint(0,9,9)"
   ]
  },
  {
   "cell_type": "code",
   "execution_count": 17,
   "id": "eceef94c",
   "metadata": {},
   "outputs": [
    {
     "data": {
      "text/plain": [
       "array([3, 3, 3, 0, 0, 2, 1, 3, 0])"
      ]
     },
     "execution_count": 17,
     "metadata": {},
     "output_type": "execute_result"
    }
   ],
   "source": [
    "array_monodirezionale"
   ]
  },
  {
   "cell_type": "code",
   "execution_count": null,
   "id": "d9b36c0d",
   "metadata": {},
   "outputs": [],
   "source": [
    "array_monodirezionale[]"
   ]
  }
 ],
 "metadata": {
  "kernelspec": {
   "display_name": "Python 3 (ipykernel)",
   "language": "python",
   "name": "python3"
  },
  "language_info": {
   "codemirror_mode": {
    "name": "ipython",
    "version": 3
   },
   "file_extension": ".py",
   "mimetype": "text/x-python",
   "name": "python",
   "nbconvert_exporter": "python",
   "pygments_lexer": "ipython3",
   "version": "3.9.12"
  }
 },
 "nbformat": 4,
 "nbformat_minor": 5
}
