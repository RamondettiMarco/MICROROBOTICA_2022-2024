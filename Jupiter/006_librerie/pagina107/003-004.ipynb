{
 "cells": [
  {
   "cell_type": "markdown",
   "id": "05b248d3",
   "metadata": {},
   "source": [
    "ogni possibile data di nascita --> numero tra 1 e 365\n",
    "in quante classi almeno 2 con lo stesso giorno"
   ]
  },
  {
   "cell_type": "code",
   "execution_count": 3,
   "id": "e8733289",
   "metadata": {},
   "outputs": [],
   "source": [
    "import numpy as np"
   ]
  },
  {
   "cell_type": "code",
   "execution_count": 42,
   "id": "9590ad6c",
   "metadata": {},
   "outputs": [
    {
     "data": {
      "text/plain": [
       "array([[357,  89, 293, ..., 339, 333, 292],\n",
       "       [299,  15, 106, ..., 119, 101, 102],\n",
       "       [229,  91, 226, ..., 154, 331, 267],\n",
       "       ...,\n",
       "       [  1, 149, 164, ..., 336, 120, 175],\n",
       "       [279, 292,  41, ..., 142,  28, 236],\n",
       "       [ 70,  53, 336, ..., 304,  41,  31]])"
      ]
     },
     "execution_count": 42,
     "metadata": {},
     "output_type": "execute_result"
    }
   ],
   "source": [
    "n_alunni = 23\n",
    "classe = np.random.randint(1, 366,(1000, n_alunni))\n",
    "classe"
   ]
  },
  {
   "cell_type": "code",
   "execution_count": 43,
   "id": "6cecae92",
   "metadata": {},
   "outputs": [
    {
     "data": {
      "text/plain": [
       "(1000, 23)"
      ]
     },
     "execution_count": 43,
     "metadata": {},
     "output_type": "execute_result"
    }
   ],
   "source": [
    "classe.shape"
   ]
  },
  {
   "cell_type": "code",
   "execution_count": 44,
   "id": "1cbe3902",
   "metadata": {},
   "outputs": [],
   "source": [
    "#np.unique(classe, axis=0)     #axis per trovare elementi lungo le righe (=0) per le colonne (=1), TROVA GLI ELEMENTI UNICI"
   ]
  },
  {
   "cell_type": "code",
   "execution_count": 45,
   "id": "ea77b8e9",
   "metadata": {},
   "outputs": [],
   "source": [
    "classi_con_almeno_doppione = 0\n",
    "for c in classe:\n",
    "    if np.unique(c).shape[0] < n_alunni:\n",
    "        classi_con_almeno_doppione += 1"
   ]
  },
  {
   "cell_type": "code",
   "execution_count": 46,
   "id": "25a54655",
   "metadata": {},
   "outputs": [
    {
     "data": {
      "text/plain": [
       "493"
      ]
     },
     "execution_count": 46,
     "metadata": {},
     "output_type": "execute_result"
    }
   ],
   "source": [
    "classi_con_almeno_doppione"
   ]
  },
  {
   "cell_type": "code",
   "execution_count": null,
   "id": "06c741ab",
   "metadata": {},
   "outputs": [],
   "source": []
  },
  {
   "cell_type": "markdown",
   "id": "e6017548",
   "metadata": {},
   "source": [
    "10000 partite, in ogni partita 1000 volte una moneta. su queste 100000 partite in quante è uscita croce almeno per il 55% delle volte"
   ]
  },
  {
   "cell_type": "code",
   "execution_count": 17,
   "id": "967ef23a",
   "metadata": {},
   "outputs": [
    {
     "data": {
      "text/plain": [
       "array([['Testa', 'Testa', 'Croce', ..., 'Testa', 'Croce', 'Croce'],\n",
       "       ['Croce', 'Testa', 'Croce', ..., 'Testa', 'Croce', 'Testa'],\n",
       "       ['Croce', 'Croce', 'Testa', ..., 'Testa', 'Croce', 'Croce'],\n",
       "       ...,\n",
       "       ['Croce', 'Croce', 'Croce', ..., 'Croce', 'Croce', 'Croce'],\n",
       "       ['Testa', 'Croce', 'Croce', ..., 'Testa', 'Croce', 'Testa'],\n",
       "       ['Croce', 'Croce', 'Testa', ..., 'Croce', 'Croce', 'Testa']],\n",
       "      dtype='<U5')"
      ]
     },
     "execution_count": 17,
     "metadata": {},
     "output_type": "execute_result"
    }
   ],
   "source": [
    "partite = np.random.choice([\"Testa\", \"Croce\"], (10000,1000))  \n",
    "partite"
   ]
  },
  {
   "cell_type": "code",
   "execution_count": 20,
   "id": "ed0fa9cc",
   "metadata": {},
   "outputs": [],
   "source": [
    "partite_croce = 0\n",
    "for partita in partite:\n",
    "    if(np.count_nonzero(partita == \"Croce\")) > 550:\n",
    "        partite_croce += 1   "
   ]
  },
  {
   "cell_type": "code",
   "execution_count": 21,
   "id": "a49a0f65",
   "metadata": {},
   "outputs": [
    {
     "data": {
      "text/plain": [
       "15"
      ]
     },
     "execution_count": 21,
     "metadata": {},
     "output_type": "execute_result"
    }
   ],
   "source": [
    "partite_croce"
   ]
  },
  {
   "cell_type": "code",
   "execution_count": 22,
   "id": "851ab8fb",
   "metadata": {},
   "outputs": [],
   "source": [
    "np.count_nonzero?"
   ]
  },
  {
   "cell_type": "code",
   "execution_count": null,
   "id": "80c5403e",
   "metadata": {},
   "outputs": [],
   "source": []
  }
 ],
 "metadata": {
  "kernelspec": {
   "display_name": "Python 3 (ipykernel)",
   "language": "python",
   "name": "python3"
  },
  "language_info": {
   "codemirror_mode": {
    "name": "ipython",
    "version": 3
   },
   "file_extension": ".py",
   "mimetype": "text/x-python",
   "name": "python",
   "nbconvert_exporter": "python",
   "pygments_lexer": "ipython3",
   "version": "3.9.12"
  }
 },
 "nbformat": 4,
 "nbformat_minor": 5
}
