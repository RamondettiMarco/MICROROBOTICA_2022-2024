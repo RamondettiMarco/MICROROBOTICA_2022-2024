{
 "cells": [
  {
   "cell_type": "markdown",
   "id": "ab8e38df",
   "metadata": {},
   "source": [
    "### Esercizio 6 pagina 107\n",
    "Considera un array monodirezionale di numeri interi compresi tra 0 e 9, generato casualmente, e trova le posizioni dell'array in cui compare la sequenza di numeri [1,2,3]"
   ]
  },
  {
   "cell_type": "code",
   "execution_count": 136,
   "id": "f87187d6",
   "metadata": {},
   "outputs": [],
   "source": [
    "import numpy as np"
   ]
  },
  {
   "cell_type": "code",
   "execution_count": 185,
   "id": "c39fda42",
   "metadata": {
    "scrolled": true
   },
   "outputs": [
    {
     "data": {
      "text/plain": [
       "array([8, 8, 4, ..., 7, 4, 8])"
      ]
     },
     "execution_count": 185,
     "metadata": {},
     "output_type": "execute_result"
    }
   ],
   "source": [
    "size = 3000\n",
    "array = np.random.randint(0,10,size)\n",
    "#array = np.array([1, 2, 3, 5, 4, 3, 1, 2, 3, 1, 2])\n",
    "posizioni = []\n",
    "array"
   ]
  },
  {
   "cell_type": "markdown",
   "id": "47e3c3ba",
   "metadata": {},
   "source": [
    "for i in range(array.size):\n",
    "    if array[i] == 1 and i < array.size-2:\n",
    "        if array[i+1] == 2:\n",
    "            if array[i+2] == 3:\n",
    "                posizioni_array = [i, i+1, i+2]\n",
    "                posizioni.append(posizioni_array)"
   ]
  },
  {
   "cell_type": "code",
   "execution_count": 186,
   "id": "e3c8e369",
   "metadata": {},
   "outputs": [],
   "source": [
    "sequenza_12= np.logical_and(array == 1, np.roll(array, -1) == 2)         #and elemento per elemento\n",
    "sequenza_123 = np.logical_and(sequenza_12, np.roll(array, -2) == 3)"
   ]
  },
  {
   "cell_type": "code",
   "execution_count": 187,
   "id": "bd877342",
   "metadata": {},
   "outputs": [
    {
     "data": {
      "text/plain": [
       "array([False, False, False, ..., False, False, False])"
      ]
     },
     "execution_count": 187,
     "metadata": {},
     "output_type": "execute_result"
    }
   ],
   "source": [
    "sequenza_123"
   ]
  },
  {
   "cell_type": "code",
   "execution_count": 188,
   "id": "8dac4cbc",
   "metadata": {},
   "outputs": [
    {
     "data": {
      "text/plain": [
       "array([ 493, 1392, 2504])"
      ]
     },
     "execution_count": 188,
     "metadata": {},
     "output_type": "execute_result"
    }
   ],
   "source": [
    "array_posizioni = np.arange(0,size)\n",
    "array_posizioni[sequenza_123]"
   ]
  },
  {
   "cell_type": "code",
   "execution_count": null,
   "id": "ed88f416",
   "metadata": {},
   "outputs": [],
   "source": []
  },
  {
   "cell_type": "code",
   "execution_count": null,
   "id": "6f4bf868",
   "metadata": {},
   "outputs": [],
   "source": []
  }
 ],
 "metadata": {
  "kernelspec": {
   "display_name": "Python 3 (ipykernel)",
   "language": "python",
   "name": "python3"
  },
  "language_info": {
   "codemirror_mode": {
    "name": "ipython",
    "version": 3
   },
   "file_extension": ".py",
   "mimetype": "text/x-python",
   "name": "python",
   "nbconvert_exporter": "python",
   "pygments_lexer": "ipython3",
   "version": "3.9.12"
  }
 },
 "nbformat": 4,
 "nbformat_minor": 5
}
