{
 "cells": [
  {
   "cell_type": "code",
   "execution_count": 3,
   "id": "200a7802",
   "metadata": {},
   "outputs": [],
   "source": [
    "import numpy as np\n",
    "import uuid"
   ]
  },
  {
   "cell_type": "code",
   "execution_count": 21,
   "id": "eb0df611",
   "metadata": {},
   "outputs": [],
   "source": [
    "n_passeggeri = 200000"
   ]
  },
  {
   "cell_type": "code",
   "execution_count": 22,
   "id": "e9bae1c5",
   "metadata": {},
   "outputs": [],
   "source": [
    "temperature = np.random.normal(36.5, 0.25, n_passeggeri)\n",
    "identificativi = np.array([str(uuid.uuid4()) for _ in range(n_passeggeri)])"
   ]
  },
  {
   "cell_type": "code",
   "execution_count": 23,
   "id": "df1aba43",
   "metadata": {},
   "outputs": [
    {
     "data": {
      "text/plain": [
       "array([36.38346562, 36.3896736 , 36.66663562, 36.50391477, 36.60873885])"
      ]
     },
     "execution_count": 23,
     "metadata": {},
     "output_type": "execute_result"
    }
   ],
   "source": [
    "temperature[:5]"
   ]
  },
  {
   "cell_type": "code",
   "execution_count": 24,
   "id": "bd6511f5",
   "metadata": {},
   "outputs": [
    {
     "data": {
      "text/plain": [
       "array(['cde8d355-3e42-43a8-bd50-c49fe8fabb87',\n",
       "       '8c6fcebb-8e35-4337-be77-c30e0e18fbcd',\n",
       "       '6e8c801f-b0c7-4318-a426-7da01d1377c3',\n",
       "       'fcb47ffc-5f02-4c52-9fe1-0faad509e01f',\n",
       "       '1dcff6a7-742e-406e-8f9e-5da740bfb3cc'], dtype='<U36')"
      ]
     },
     "execution_count": 24,
     "metadata": {},
     "output_type": "execute_result"
    }
   ],
   "source": [
    "identificativi[:5]"
   ]
  },
  {
   "cell_type": "code",
   "execution_count": 35,
   "id": "dadd2639",
   "metadata": {},
   "outputs": [
    {
     "name": "stdout",
     "output_type": "stream",
     "text": [
      "Numero di passeggeri con temperatura maggiore di 37.5 : 5\n",
      "\n",
      "ATTENZIONE \n",
      "Passeggeri con temperatura maggiore di 37.5:\n",
      "41b875ac-f7f3-415e-a504-9ef674b887a8\n",
      "695acd68-7599-48c1-a613-a697c290126a\n",
      "452bf242-d741-446e-a5b4-6ad6f5d032df\n",
      "91a36d13-bc45-4fb8-aa61-60bfa865e398\n",
      "c9471d78-0e76-4e3c-9636-12a5e9028574\n"
     ]
    }
   ],
   "source": [
    "#%%timeit\n",
    "#il numero totale di passeggeri con temperatura maggiore di 37.5 \n",
    "cnt = 0\n",
    "for t in temperature:\n",
    "    if t > 37.5:\n",
    "        cnt += 1\n",
    "print(f\"Numero di passeggeri con temperatura maggiore di 37.5 : {cnt}\")\n",
    "print()\n",
    "# identificativi passeggeri con temperatura maggiore di 37.5\n",
    "print(\"ATTENZIONE \\nPasseggeri con temperatura maggiore di 37.5:\")\n",
    "for i in range(n_passeggeri):\n",
    "    if temperature[i] > 37.5:\n",
    "        print(identificativi[i])"
   ]
  },
  {
   "cell_type": "code",
   "execution_count": 36,
   "id": "ee5a9765",
   "metadata": {},
   "outputs": [
    {
     "name": "stdout",
     "output_type": "stream",
     "text": [
      "Il numero di passeggeri con temperatura maggiore di 37.5 è 5\n",
      "\n",
      "ATTENZIONE passeggeri con temperatura maggiore di 37.5:\n",
      "['41b875ac-f7f3-415e-a504-9ef674b887a8'\n",
      " '695acd68-7599-48c1-a613-a697c290126a'\n",
      " '452bf242-d741-446e-a5b4-6ad6f5d032df'\n",
      " '91a36d13-bc45-4fb8-aa61-60bfa865e398'\n",
      " 'c9471d78-0e76-4e3c-9636-12a5e9028574']\n"
     ]
    }
   ],
   "source": [
    "#%%timeit\n",
    "#il numero totale di passeggeri con temperatura maggiore di 37.5 \n",
    "print(\"Il numero di passeggeri con temperatura maggiore di 37.5 è\", np.sum(temperature > 37.5))\n",
    "print()\n",
    "# identificativi passeggeri con temperatura maggiore di 37.5\n",
    "print(\"ATTENZIONE passeggeri con temperatura maggiore di 37.5:\")\n",
    "print(identificativi[temperature > 37.5])"
   ]
  },
  {
   "cell_type": "code",
   "execution_count": null,
   "id": "a5eb2524",
   "metadata": {},
   "outputs": [],
   "source": []
  }
 ],
 "metadata": {
  "kernelspec": {
   "display_name": "Python 3 (ipykernel)",
   "language": "python",
   "name": "python3"
  },
  "language_info": {
   "codemirror_mode": {
    "name": "ipython",
    "version": 3
   },
   "file_extension": ".py",
   "mimetype": "text/x-python",
   "name": "python",
   "nbconvert_exporter": "python",
   "pygments_lexer": "ipython3",
   "version": "3.9.12"
  }
 },
 "nbformat": 4,
 "nbformat_minor": 5
}
