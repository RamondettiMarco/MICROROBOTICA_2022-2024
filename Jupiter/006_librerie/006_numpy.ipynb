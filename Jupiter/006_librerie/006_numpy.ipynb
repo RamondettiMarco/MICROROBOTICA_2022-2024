{
 "cells": [
  {
   "cell_type": "code",
   "execution_count": 1,
   "id": "ad15c8b0",
   "metadata": {},
   "outputs": [],
   "source": [
    "import numpy as np"
   ]
  },
  {
   "cell_type": "code",
   "execution_count": 8,
   "id": "ef7519ff",
   "metadata": {},
   "outputs": [],
   "source": [
    "lista = [1, 2, 3, 4]"
   ]
  },
  {
   "cell_type": "code",
   "execution_count": 9,
   "id": "db41d8e7",
   "metadata": {},
   "outputs": [
    {
     "data": {
      "text/plain": [
       "list"
      ]
     },
     "execution_count": 9,
     "metadata": {},
     "output_type": "execute_result"
    }
   ],
   "source": [
    "type(lista)"
   ]
  },
  {
   "cell_type": "code",
   "execution_count": 10,
   "id": "c3bddce5",
   "metadata": {},
   "outputs": [],
   "source": [
    "array = np.array(lista)"
   ]
  },
  {
   "cell_type": "code",
   "execution_count": 11,
   "id": "293c0c71",
   "metadata": {},
   "outputs": [
    {
     "data": {
      "text/plain": [
       "array([1, 2, 3, 4])"
      ]
     },
     "execution_count": 11,
     "metadata": {},
     "output_type": "execute_result"
    }
   ],
   "source": [
    "array"
   ]
  },
  {
   "cell_type": "code",
   "execution_count": 12,
   "id": "b7c42d7e",
   "metadata": {},
   "outputs": [
    {
     "data": {
      "text/plain": [
       "numpy.ndarray"
      ]
     },
     "execution_count": 12,
     "metadata": {},
     "output_type": "execute_result"
    }
   ],
   "source": [
    "type(array)"
   ]
  },
  {
   "cell_type": "code",
   "execution_count": 13,
   "id": "50a567cb",
   "metadata": {},
   "outputs": [
    {
     "data": {
      "text/plain": [
       "array([ 3,  6,  9, 12])"
      ]
     },
     "execution_count": 13,
     "metadata": {},
     "output_type": "execute_result"
    }
   ],
   "source": [
    "3 * array"
   ]
  },
  {
   "cell_type": "code",
   "execution_count": 14,
   "id": "734ae04c",
   "metadata": {},
   "outputs": [
    {
     "data": {
      "text/plain": [
       "[1, 2, 3, 4, 1, 2, 3, 4, 1, 2, 3, 4]"
      ]
     },
     "execution_count": 14,
     "metadata": {},
     "output_type": "execute_result"
    }
   ],
   "source": [
    "3 * lista"
   ]
  },
  {
   "cell_type": "code",
   "execution_count": 15,
   "id": "698c212c",
   "metadata": {},
   "outputs": [
    {
     "data": {
      "text/plain": [
       "array([11, 12, 13, 14])"
      ]
     },
     "execution_count": 15,
     "metadata": {},
     "output_type": "execute_result"
    }
   ],
   "source": [
    "10 + array"
   ]
  },
  {
   "cell_type": "code",
   "execution_count": 16,
   "id": "97fed450",
   "metadata": {},
   "outputs": [
    {
     "data": {
      "text/plain": [
       "array([1, 2, 3, 4])"
      ]
     },
     "execution_count": 16,
     "metadata": {},
     "output_type": "execute_result"
    }
   ],
   "source": [
    "array"
   ]
  },
  {
   "cell_type": "code",
   "execution_count": 17,
   "id": "66c52d02",
   "metadata": {},
   "outputs": [
    {
     "data": {
      "text/plain": [
       "array([1, 2, 3, 4])"
      ]
     },
     "execution_count": 17,
     "metadata": {},
     "output_type": "execute_result"
    }
   ],
   "source": [
    "a = array.copy()      #copio array in un altro\n",
    "a"
   ]
  },
  {
   "cell_type": "code",
   "execution_count": 62,
   "id": "3a836472",
   "metadata": {},
   "outputs": [],
   "source": [
    "b = np.array(lista[::-1])         #inverse gli elementi"
   ]
  },
  {
   "cell_type": "code",
   "execution_count": 19,
   "id": "b7fa37a0",
   "metadata": {},
   "outputs": [
    {
     "data": {
      "text/plain": [
       "array([5, 5, 5, 5])"
      ]
     },
     "execution_count": 19,
     "metadata": {},
     "output_type": "execute_result"
    }
   ],
   "source": [
    "a + b          #somma elemento per elemento dei due array, BROADCAST --> solo se hanno la stessa lunghezza."
   ]
  },
  {
   "cell_type": "code",
   "execution_count": 20,
   "id": "6ac85ceb",
   "metadata": {},
   "outputs": [],
   "source": [
    "zeri = np.zeros(10, np.int8)"
   ]
  },
  {
   "cell_type": "code",
   "execution_count": 21,
   "id": "3b2b92d3",
   "metadata": {},
   "outputs": [
    {
     "data": {
      "text/plain": [
       "array([0, 0, 0, 0, 0, 0, 0, 0, 0, 0], dtype=int8)"
      ]
     },
     "execution_count": 21,
     "metadata": {},
     "output_type": "execute_result"
    }
   ],
   "source": [
    "zeri"
   ]
  },
  {
   "cell_type": "code",
   "execution_count": 22,
   "id": "6f31db1b",
   "metadata": {},
   "outputs": [
    {
     "data": {
      "text/plain": [
       "array([1., 1., 1., 1., 1., 1., 1., 1., 1., 1.])"
      ]
     },
     "execution_count": 22,
     "metadata": {},
     "output_type": "execute_result"
    }
   ],
   "source": [
    "uni = np.ones(10)\n",
    "uni"
   ]
  },
  {
   "cell_type": "code",
   "execution_count": 2,
   "id": "f9e98720",
   "metadata": {},
   "outputs": [
    {
     "data": {
      "text/plain": [
       "array([1.49500966, 1.84209448, 1.22800671, 1.6752464 , 1.86522183,\n",
       "       1.38177696, 1.8897466 , 1.92450499, 1.28991193, 1.78470334])"
      ]
     },
     "execution_count": 2,
     "metadata": {},
     "output_type": "execute_result"
    }
   ],
   "source": [
    "np.random.uniform(1,2, 10)   #10 numeri compresi tra 1 e 2"
   ]
  },
  {
   "cell_type": "code",
   "execution_count": 24,
   "id": "c5735c75",
   "metadata": {},
   "outputs": [
    {
     "data": {
      "text/plain": [
       "array([0.32762823, 0.96183326, 0.79153294, 0.93331971, 0.80197551,\n",
       "       0.0237212 , 0.51766299, 0.65780876, 0.4098935 , 0.3229928 ])"
      ]
     },
     "execution_count": 24,
     "metadata": {},
     "output_type": "execute_result"
    }
   ],
   "source": [
    "np.random.uniform(size=10)   "
   ]
  },
  {
   "cell_type": "code",
   "execution_count": 25,
   "id": "038dc53f",
   "metadata": {
    "scrolled": true
   },
   "outputs": [
    {
     "data": {
      "text/plain": [
       "array([5, 2, 6, 1, 5, 3, 6, 6, 3, 6])"
      ]
     },
     "execution_count": 25,
     "metadata": {},
     "output_type": "execute_result"
    }
   ],
   "source": [
    "np.random.randint(1,7,10)"
   ]
  },
  {
   "cell_type": "code",
   "execution_count": 34,
   "id": "a4bcccab",
   "metadata": {},
   "outputs": [],
   "source": [
    "alice = np.random.randint(1,7,10)     #array di numpy"
   ]
  },
  {
   "cell_type": "code",
   "execution_count": 31,
   "id": "31c2f848",
   "metadata": {},
   "outputs": [],
   "source": [
    "bob = np.random.randint(1,7,10)"
   ]
  },
  {
   "cell_type": "code",
   "execution_count": 41,
   "id": "789765d1",
   "metadata": {},
   "outputs": [
    {
     "name": "stdout",
     "output_type": "stream",
     "text": [
      "Lanci di Alice: [3 6 6 5 3 6 2 6 2 5]\n",
      "Lanci di Bob: [1 3 1 2 5 1 3 6 6 5]\n"
     ]
    }
   ],
   "source": [
    "print(f\"Lanci di Alice: {alice}\")\n",
    "print(f\"Lanci di Bob: {bob}\")"
   ]
  },
  {
   "cell_type": "code",
   "execution_count": 42,
   "id": "f193fa94",
   "metadata": {},
   "outputs": [
    {
     "data": {
      "text/plain": [
       "dtype('int32')"
      ]
     },
     "execution_count": 42,
     "metadata": {},
     "output_type": "execute_result"
    }
   ],
   "source": [
    "alice.dtype"
   ]
  },
  {
   "cell_type": "code",
   "execution_count": 43,
   "id": "8f07102a",
   "metadata": {},
   "outputs": [
    {
     "data": {
      "text/plain": [
       "array([ True,  True,  True,  True, False,  True, False, False, False,\n",
       "       False])"
      ]
     },
     "execution_count": 43,
     "metadata": {},
     "output_type": "execute_result"
    }
   ],
   "source": [
    "alice_vince = alice > bob  \n",
    "alice_vince"
   ]
  },
  {
   "cell_type": "markdown",
   "id": "a84d961b",
   "metadata": {},
   "source": [
    "indicizzare con dei booleani --> INDICIZZAZIONE BOOLEANA"
   ]
  },
  {
   "cell_type": "code",
   "execution_count": 44,
   "id": "74909151",
   "metadata": {},
   "outputs": [
    {
     "data": {
      "text/plain": [
       "dtype('bool')"
      ]
     },
     "execution_count": 44,
     "metadata": {},
     "output_type": "execute_result"
    }
   ],
   "source": [
    "alice_vince.dtype"
   ]
  },
  {
   "cell_type": "code",
   "execution_count": 47,
   "id": "8bf9ce15",
   "metadata": {},
   "outputs": [
    {
     "data": {
      "text/plain": [
       "array([3, 6, 6, 5, 6])"
      ]
     },
     "execution_count": 47,
     "metadata": {},
     "output_type": "execute_result"
    }
   ],
   "source": [
    "alice[alice_vince]     #punteggio di Alice quando ha visto "
   ]
  },
  {
   "cell_type": "code",
   "execution_count": 48,
   "id": "9b0e08ff",
   "metadata": {},
   "outputs": [
    {
     "data": {
      "text/plain": [
       "array([1, 3, 1, 2, 1])"
      ]
     },
     "execution_count": 48,
     "metadata": {},
     "output_type": "execute_result"
    }
   ],
   "source": [
    "bob[alice_vince]          #punteggio di Bob quando Alice ha vinto"
   ]
  },
  {
   "cell_type": "code",
   "execution_count": 51,
   "id": "0fb9bf5b",
   "metadata": {},
   "outputs": [
    {
     "data": {
      "text/plain": [
       "array([ 3,  6,  9, 12, 15, 18])"
      ]
     },
     "execution_count": 51,
     "metadata": {},
     "output_type": "execute_result"
    }
   ],
   "source": [
    "np.arange(3, 20, 3)     #arriva da 3 a 20 (escluso) a passi di 3"
   ]
  },
  {
   "cell_type": "code",
   "execution_count": 52,
   "id": "9ca151c7",
   "metadata": {},
   "outputs": [
    {
     "data": {
      "text/plain": [
       "array([ 0,  1,  2,  3,  4,  5,  6,  7,  8,  9, 10, 11, 12, 13, 14, 15, 16,\n",
       "       17, 18, 19])"
      ]
     },
     "execution_count": 52,
     "metadata": {},
     "output_type": "execute_result"
    }
   ],
   "source": [
    "np.arange(20)    #da 0 a 20 senza includere il 20"
   ]
  },
  {
   "cell_type": "code",
   "execution_count": 57,
   "id": "c0a85d41",
   "metadata": {},
   "outputs": [
    {
     "data": {
      "text/plain": [
       "array([0.        , 0.26315789, 0.52631579, 0.78947368, 1.05263158,\n",
       "       1.31578947, 1.57894737, 1.84210526, 2.10526316, 2.36842105,\n",
       "       2.63157895, 2.89473684, 3.15789474, 3.42105263, 3.68421053,\n",
       "       3.94736842, 4.21052632, 4.47368421, 4.73684211, 5.        ])"
      ]
     },
     "execution_count": 57,
     "metadata": {},
     "output_type": "execute_result"
    }
   ],
   "source": [
    "np.linspace(0.0, 5.0, 20)       #numero di partenza, numero di arrivo, quanti numeri tra quell'intervallo voglio. suddivide \n",
    "                                #l'array in n parti. "
   ]
  },
  {
   "cell_type": "code",
   "execution_count": 59,
   "id": "5f148c03",
   "metadata": {},
   "outputs": [
    {
     "data": {
      "text/plain": [
       "0.07667794771703651"
      ]
     },
     "execution_count": 59,
     "metadata": {},
     "output_type": "execute_result"
    }
   ],
   "source": [
    "np.random.uniform(0.,10.)         #numero casuale da 0 a 10"
   ]
  },
  {
   "cell_type": "code",
   "execution_count": 5,
   "id": "e7d16a06",
   "metadata": {},
   "outputs": [
    {
     "data": {
      "text/plain": [
       "array([6.72466682, 0.43927041, 5.87071808, 8.28873218, 2.17025788])"
      ]
     },
     "execution_count": 5,
     "metadata": {},
     "output_type": "execute_result"
    }
   ],
   "source": [
    "np.random.uniform(0,10, size=5)         #array di size con all'interno numeri compreso tra 0 e 10"
   ]
  },
  {
   "cell_type": "code",
   "execution_count": 67,
   "id": "f7bfcce9",
   "metadata": {},
   "outputs": [
    {
     "data": {
      "text/plain": [
       "array(['Croce', 'Croce', 'Testa', 'Testa', 'Testa', 'Croce', 'Testa',\n",
       "       'Testa', 'Testa', 'Testa', 'Croce', 'Testa', 'Croce', 'Testa',\n",
       "       'Croce', 'Croce', 'Testa', 'Croce', 'Testa', 'Testa'], dtype='<U5')"
      ]
     },
     "execution_count": 67,
     "metadata": {},
     "output_type": "execute_result"
    }
   ],
   "source": [
    "np.random.choice([\"Testa\", \"Croce\"], 20)      #passo lista o array, posso indicare il numero di \"scelte\"  con ugual probabilità"
   ]
  },
  {
   "cell_type": "code",
   "execution_count": 71,
   "id": "40bbaa7d",
   "metadata": {},
   "outputs": [
    {
     "data": {
      "text/plain": [
       "array(['Testa', 'Testa', 'Testa', 'Croce', 'Testa', 'Testa', 'Croce',\n",
       "       'Testa', 'Testa', 'Testa'], dtype='<U5')"
      ]
     },
     "execution_count": 71,
     "metadata": {},
     "output_type": "execute_result"
    }
   ],
   "source": [
    "np.random.choice([\"Testa\", \"Croce\"], 10, p=[0.7, 0.3])  #simulare una MONETA TRUCCATA, indico la probabilità dei singoli eventi."
   ]
  },
  {
   "cell_type": "code",
   "execution_count": 74,
   "id": "a7b951e5",
   "metadata": {},
   "outputs": [
    {
     "data": {
      "text/plain": [
       "array([ 0.53681707,  1.5374128 ,  2.94027193,  1.64289878,  0.60130672,\n",
       "       -0.36002914,  1.97500583, -0.14033289,  0.96449444,  2.01080758])"
      ]
     },
     "execution_count": 74,
     "metadata": {},
     "output_type": "execute_result"
    }
   ],
   "source": [
    "np.random.normal(1., 1., 10)   #10 numeri estratti con una probabilità GAUSSIANA con media 1 e deviazione 2"
   ]
  },
  {
   "cell_type": "code",
   "execution_count": 3,
   "id": "697f80a9",
   "metadata": {},
   "outputs": [
    {
     "data": {
      "text/plain": [
       "array([182.62559472, 203.44884753, 190.76322934, 181.79216202,\n",
       "       173.38107392, 171.2540843 , 187.27631503, 173.28708864,\n",
       "       189.83810366, 183.71654371, 181.38463229, 195.33322672,\n",
       "       168.85112155, 179.75117157, 175.93673245, 183.32689471,\n",
       "       197.5509617 , 166.18080511, 167.7952346 , 198.96909007])"
      ]
     },
     "execution_count": 3,
     "metadata": {},
     "output_type": "execute_result"
    }
   ],
   "source": [
    "altezze = np.random.normal(178, 10, 20)\n",
    "altezze"
   ]
  },
  {
   "cell_type": "code",
   "execution_count": 5,
   "id": "ccb694a8",
   "metadata": {},
   "outputs": [
    {
     "data": {
      "text/plain": [
       "203.44884752898403"
      ]
     },
     "execution_count": 5,
     "metadata": {},
     "output_type": "execute_result"
    }
   ],
   "source": [
    "np.max(altezze)"
   ]
  },
  {
   "cell_type": "code",
   "execution_count": 6,
   "id": "f9b1ae95",
   "metadata": {},
   "outputs": [
    {
     "data": {
      "text/plain": [
       "166.18080511102906"
      ]
     },
     "execution_count": 6,
     "metadata": {},
     "output_type": "execute_result"
    }
   ],
   "source": [
    "np.min(altezze)"
   ]
  },
  {
   "cell_type": "code",
   "execution_count": 9,
   "id": "d56e1b0b",
   "metadata": {},
   "outputs": [
    {
     "data": {
      "text/plain": [
       "array([[174.62800599, 172.50628867, 169.83069583, 181.96495434,\n",
       "        182.49719349, 178.84860429, 174.63084108],\n",
       "       [195.11822962, 187.84310284, 183.83401555, 161.16812912,\n",
       "        179.29865114, 173.09135975, 184.43331076],\n",
       "       [193.88508393, 183.35961747, 189.23127469, 166.35323426,\n",
       "        177.28591045, 182.63417983, 184.20102441],\n",
       "       [168.11369029, 194.13868904, 179.15584591, 182.52265157,\n",
       "        182.12873424, 172.05811324, 191.51732635],\n",
       "       [170.50727935, 181.19202521, 184.80900397, 174.94669578,\n",
       "        172.89730976, 181.46502375, 182.30022705]])"
      ]
     },
     "execution_count": 9,
     "metadata": {},
     "output_type": "execute_result"
    }
   ],
   "source": [
    "altezze_tupla = np.random.normal(178,10, (5,7))         #TUPLA a 2 dimensioni\n",
    "altezze_tupla"
   ]
  },
  {
   "cell_type": "markdown",
   "id": "ed3fa1c4",
   "metadata": {},
   "source": [
    "### Array a due dimensioni unidirezionali\n",
    "\n",
    "-se metto il punto dopo un valore imposto a FLOAT"
   ]
  },
  {
   "cell_type": "code",
   "execution_count": 25,
   "id": "bcdf4213",
   "metadata": {},
   "outputs": [
    {
     "data": {
      "text/plain": [
       "array([[1., 2., 3.],\n",
       "       [4., 5., 6.]])"
      ]
     },
     "execution_count": 25,
     "metadata": {},
     "output_type": "execute_result"
    }
   ],
   "source": [
    "array_2d = np.array([[1., 2., 3.],[4., 5., 6.,]])\n",
    "array_2d"
   ]
  },
  {
   "cell_type": "code",
   "execution_count": 26,
   "id": "e1b8249e",
   "metadata": {},
   "outputs": [
    {
     "data": {
      "text/plain": [
       "(2, 3)"
      ]
     },
     "execution_count": 26,
     "metadata": {},
     "output_type": "execute_result"
    }
   ],
   "source": [
    "array_2d.shape    #shape array, tupla che ha tanti elementi quanti ha la dimensione dell'array"
   ]
  },
  {
   "cell_type": "code",
   "execution_count": 27,
   "id": "b3f74d76",
   "metadata": {},
   "outputs": [
    {
     "data": {
      "text/plain": [
       "dtype('float64')"
      ]
     },
     "execution_count": 27,
     "metadata": {},
     "output_type": "execute_result"
    }
   ],
   "source": [
    "array_2d.dtype"
   ]
  },
  {
   "cell_type": "code",
   "execution_count": 21,
   "id": "20a26b3b",
   "metadata": {},
   "outputs": [
    {
     "data": {
      "text/plain": [
       "array([[0.17876327, 0.43515817],\n",
       "       [0.64576188, 0.29866239],\n",
       "       [0.47562676, 0.19080606],\n",
       "       [0.41379739, 0.94040766],\n",
       "       [0.40610326, 0.66548102],\n",
       "       [0.00610201, 0.6331093 ],\n",
       "       [0.93432859, 0.99116257],\n",
       "       [0.75468433, 0.05786528]])"
      ]
     },
     "execution_count": 21,
     "metadata": {},
     "output_type": "execute_result"
    }
   ],
   "source": [
    "array_2d_casuale = np.random.uniform(0., 1., (8, 2))\n",
    "array_2d_casuale"
   ]
  },
  {
   "cell_type": "code",
   "execution_count": 22,
   "id": "45b69d2a",
   "metadata": {},
   "outputs": [
    {
     "data": {
      "text/plain": [
       "(8, 2)"
      ]
     },
     "execution_count": 22,
     "metadata": {},
     "output_type": "execute_result"
    }
   ],
   "source": [
    "array_2d_casuale.shape"
   ]
  },
  {
   "cell_type": "markdown",
   "id": "4835b27a",
   "metadata": {},
   "source": [
    "### Stampo un solo elemento in posizione x, y"
   ]
  },
  {
   "cell_type": "code",
   "execution_count": 42,
   "id": "bce816b7",
   "metadata": {},
   "outputs": [
    {
     "data": {
      "text/plain": [
       "0.7546843338039133"
      ]
     },
     "execution_count": 42,
     "metadata": {},
     "output_type": "execute_result"
    }
   ],
   "source": [
    "array_2d_casuale[7,0]      "
   ]
  },
  {
   "cell_type": "markdown",
   "id": "aeb8f74d",
   "metadata": {},
   "source": [
    "### Stampo una colonna"
   ]
  },
  {
   "cell_type": "code",
   "execution_count": 43,
   "id": "1acd26e3",
   "metadata": {},
   "outputs": [
    {
     "data": {
      "text/plain": [
       "array([0.17876327, 0.64576188, 0.47562676, 0.41379739, 0.40610326,\n",
       "       0.00610201, 0.93432859, 0.75468433])"
      ]
     },
     "execution_count": 43,
     "metadata": {},
     "output_type": "execute_result"
    }
   ],
   "source": [
    "array_2d_casuale[:,0]      "
   ]
  },
  {
   "cell_type": "markdown",
   "id": "658acc03",
   "metadata": {},
   "source": [
    "### Stampo una riga"
   ]
  },
  {
   "cell_type": "code",
   "execution_count": 44,
   "id": "6d221eb1",
   "metadata": {},
   "outputs": [
    {
     "data": {
      "text/plain": [
       "array([0.40610326, 0.66548102])"
      ]
     },
     "execution_count": 44,
     "metadata": {},
     "output_type": "execute_result"
    }
   ],
   "source": [
    "array_2d_casuale[4, :]"
   ]
  },
  {
   "cell_type": "markdown",
   "id": "5a92c205",
   "metadata": {},
   "source": [
    "### Blocco: stampa la porzione di array che voglio. \n",
    "\n",
    "Posso usare lo SLICING"
   ]
  },
  {
   "cell_type": "code",
   "execution_count": 47,
   "id": "283a8910",
   "metadata": {},
   "outputs": [
    {
     "data": {
      "text/plain": [
       "array([[0.47562676, 0.19080606],\n",
       "       [0.41379739, 0.94040766],\n",
       "       [0.40610326, 0.66548102]])"
      ]
     },
     "execution_count": 47,
     "metadata": {},
     "output_type": "execute_result"
    }
   ],
   "source": [
    "array_2d_casuale[2:5, :]     #5 escluso"
   ]
  },
  {
   "cell_type": "markdown",
   "id": "38df12a9",
   "metadata": {},
   "source": [
    "### Assegnazione"
   ]
  },
  {
   "cell_type": "code",
   "execution_count": 49,
   "id": "13a76c9f",
   "metadata": {},
   "outputs": [
    {
     "data": {
      "text/plain": [
       "array([[0.17876327, 0.43515817],\n",
       "       [0.64576188, 0.29866239],\n",
       "       [1.        , 1.        ],\n",
       "       [1.        , 1.        ],\n",
       "       [1.        , 1.        ],\n",
       "       [0.00610201, 0.6331093 ],\n",
       "       [0.93432859, 0.99116257],\n",
       "       [0.75468433, 0.05786528]])"
      ]
     },
     "execution_count": 49,
     "metadata": {},
     "output_type": "execute_result"
    }
   ],
   "source": [
    "array_2d_casuale[2:5, :] = 1\n",
    "array_2d_casuale"
   ]
  },
  {
   "cell_type": "markdown",
   "id": "66646d60",
   "metadata": {},
   "source": [
    "### Indicizzazione booleana \n",
    "\n",
    "lavoro con una condizione sugli elementi"
   ]
  },
  {
   "cell_type": "code",
   "execution_count": 4,
   "id": "2e86856a",
   "metadata": {},
   "outputs": [],
   "source": [
    "array_1d = np.arange(0,5)"
   ]
  },
  {
   "cell_type": "code",
   "execution_count": 5,
   "id": "0cf6028b",
   "metadata": {},
   "outputs": [],
   "source": [
    "resto_fa_zero = array_1d % 2 == 0"
   ]
  },
  {
   "cell_type": "code",
   "execution_count": 6,
   "id": "ca86f144",
   "metadata": {},
   "outputs": [
    {
     "data": {
      "text/plain": [
       "array([0, 2, 4])"
      ]
     },
     "execution_count": 6,
     "metadata": {},
     "output_type": "execute_result"
    }
   ],
   "source": [
    "array_1d[resto_fa_zero]"
   ]
  },
  {
   "cell_type": "code",
   "execution_count": 9,
   "id": "44edfd2b",
   "metadata": {},
   "outputs": [
    {
     "data": {
      "text/plain": [
       "array([999,   1, 999,   3, 999])"
      ]
     },
     "execution_count": 9,
     "metadata": {},
     "output_type": "execute_result"
    }
   ],
   "source": [
    "array_1d[resto_fa_zero] = 999\n",
    "array_1d"
   ]
  },
  {
   "cell_type": "markdown",
   "id": "a2f3e687",
   "metadata": {},
   "source": [
    "### Indicizzazione con array di indici o fancy-indexing"
   ]
  },
  {
   "cell_type": "code",
   "execution_count": 11,
   "id": "736b7b3d",
   "metadata": {},
   "outputs": [
    {
     "data": {
      "text/plain": [
       "array([0.07956004, 0.7096852 , 0.63948228, 0.95071024, 0.04746698,\n",
       "       0.40296918, 0.95771615, 0.65275048, 0.36883607, 0.77665112])"
      ]
     },
     "execution_count": 11,
     "metadata": {},
     "output_type": "execute_result"
    }
   ],
   "source": [
    "array_1d = np.random.uniform(0., 1., 10)\n",
    "array_1d"
   ]
  },
  {
   "cell_type": "code",
   "execution_count": 14,
   "id": "25b9ad57",
   "metadata": {},
   "outputs": [
    {
     "data": {
      "text/plain": [
       "array([0.7096852 , 0.63948228, 0.77665112])"
      ]
     },
     "execution_count": 14,
     "metadata": {},
     "output_type": "execute_result"
    }
   ],
   "source": [
    "array_1d[np.array([1, 2, 9])]"
   ]
  },
  {
   "cell_type": "code",
   "execution_count": 16,
   "id": "1f1f27fc",
   "metadata": {},
   "outputs": [
    {
     "data": {
      "text/plain": [
       "array([7.95600364e-02, 9.99000000e+02, 9.99000000e+02, 9.50710243e-01,\n",
       "       4.74669777e-02, 4.02969183e-01, 9.57716154e-01, 6.52750475e-01,\n",
       "       3.68836067e-01, 9.99000000e+02])"
      ]
     },
     "execution_count": 16,
     "metadata": {},
     "output_type": "execute_result"
    }
   ],
   "source": [
    "array_1d[np.array([1, 2, 9])] = 999\n",
    "array_1d"
   ]
  },
  {
   "cell_type": "code",
   "execution_count": null,
   "id": "48f26be1",
   "metadata": {},
   "outputs": [],
   "source": []
  }
 ],
 "metadata": {
  "kernelspec": {
   "display_name": "Python 3 (ipykernel)",
   "language": "python",
   "name": "python3"
  },
  "language_info": {
   "codemirror_mode": {
    "name": "ipython",
    "version": 3
   },
   "file_extension": ".py",
   "mimetype": "text/x-python",
   "name": "python",
   "nbconvert_exporter": "python",
   "pygments_lexer": "ipython3",
   "version": "3.9.12"
  }
 },
 "nbformat": 4,
 "nbformat_minor": 5
}
