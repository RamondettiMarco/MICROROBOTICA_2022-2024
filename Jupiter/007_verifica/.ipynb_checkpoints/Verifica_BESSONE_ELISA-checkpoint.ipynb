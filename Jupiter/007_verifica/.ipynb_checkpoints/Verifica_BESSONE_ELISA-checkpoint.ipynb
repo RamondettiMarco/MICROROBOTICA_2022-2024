{
 "cells": [
  {
   "cell_type": "markdown",
   "id": "44ce9d47",
   "metadata": {},
   "source": [
    "# Verifica su Python e introduzione a Numpy\n",
    "### BESSONE ELISA"
   ]
  },
  {
   "cell_type": "code",
   "execution_count": 1,
   "id": "7fa011fb",
   "metadata": {},
   "outputs": [],
   "source": [
    "import numpy as np"
   ]
  },
  {
   "cell_type": "markdown",
   "id": "e75da7dd",
   "metadata": {},
   "source": [
    "## ESERCIZIO 1\n",
    "Il file *robots.txt* contiene un frammento del vero file *robots.txt* di un importante quotidiano online. Tutte le righe che iniziano con la parola chiave `Disallow:` contengono le URL di pagine del quotidiano alle quali i software automatici di web crawling o di indicizzazione non dovrebbero mai accedere. La prima directory della URL indica la tipologia di notizia a cui punta l'URL. Per esempio la riga `Disallow: /economia/finanza-personale/2010/Prova-Metadati_a1b5a008-f178-11df-8c4b-00144f02aabc.shtml`fa riferimento a una notizia di **economia**.\n",
    "\n",
    "Crea un programma in Python 3 che legga il file e generi un dizionario in cui:\n",
    "* la chiave è la tipologia di notizia,\n",
    "* il valore è il numero di notizie di quella tipologia."
   ]
  },
  {
   "cell_type": "code",
   "execution_count": 28,
   "id": "c238539f",
   "metadata": {},
   "outputs": [],
   "source": [
    "dizionario_notizie = {}"
   ]
  },
  {
   "cell_type": "code",
   "execution_count": 29,
   "id": "6387cbbc",
   "metadata": {},
   "outputs": [],
   "source": [
    "f = open('robots.txt', 'r')\n",
    "testo = f.readlines()\n",
    "f.close()"
   ]
  },
  {
   "cell_type": "code",
   "execution_count": 30,
   "id": "c59af71a",
   "metadata": {},
   "outputs": [],
   "source": [
    "righe = []\n",
    "for i in range(len(testo)):\n",
    "    righe.append(testo[i].replace(\"Disallow: /\", \" \").lower().split(\"/\"))\n",
    "    #print(righe[i][0])\n",
    "    #print(len(righe))    "
   ]
  },
  {
   "cell_type": "code",
   "execution_count": 31,
   "id": "8856999d",
   "metadata": {},
   "outputs": [],
   "source": [
    "riga = []\n",
    "for i in range(len(righe)):\n",
    "    riga.append(righe[i][0])\n",
    "    if i != 0:\n",
    "        if riga[i] not in dizionario_notizie:\n",
    "            dizionario_notizie[riga[i]] = 1\n",
    "        else:\n",
    "            dizionario_notizie[riga[i]] += 1"
   ]
  },
  {
   "cell_type": "code",
   "execution_count": 32,
   "id": "738dee5e",
   "metadata": {},
   "outputs": [
    {
     "data": {
      "text/plain": [
       "{' politica': 17,\n",
       " ' esteri': 1,\n",
       " ' cronache': 34,\n",
       " ' sport': 1,\n",
       " ' economia': 6,\n",
       " ' scienze_e_tecnologie': 1,\n",
       " ' spettacoli': 2,\n",
       " ' primo_piano': 45,\n",
       " ' ioscrivo': 1,\n",
       " ' notizie-ultima-ora': 7,\n",
       " ' cultura': 3,\n",
       " ' gallery': 1,\n",
       " ' sette': 1,\n",
       " ' inchieste': 1}"
      ]
     },
     "execution_count": 32,
     "metadata": {},
     "output_type": "execute_result"
    }
   ],
   "source": [
    "dizionario_notizie"
   ]
  },
  {
   "cell_type": "markdown",
   "id": "8446b35f",
   "metadata": {},
   "source": [
    "## ESERCIZIO 2\n",
    "Crea un array di numpy che contenga tutti i numeri interi tra 2 e 1000 (estremi inclusi), ma nel quale tutti i numeri divisibili per 7 sono sostituiti da uno 0. Infine crea un array contenente tutti i numeri interi tra 2 e 1000 (estremi inclusi) ma privo di tutti i numeri divisibili per 7."
   ]
  },
  {
   "cell_type": "markdown",
   "id": "338a0ddb",
   "metadata": {},
   "source": [
    "for i in range(len(righe)):\n",
    "    if righe[i][0] not in dizionario_notizie:\n",
    "        dizionario_notizie[righe[i][0]] = 0\n",
    "    else:\n",
    "        dizionario_notizie[righe[i][0]] += 1"
   ]
  },
  {
   "cell_type": "code",
   "execution_count": 314,
   "id": "dd7a28bb",
   "metadata": {},
   "outputs": [],
   "source": [
    "array = np.arange(2,1001)"
   ]
  },
  {
   "cell_type": "code",
   "execution_count": 313,
   "id": "602a5dc2",
   "metadata": {},
   "outputs": [],
   "source": [
    "for i in range(array.size):\n",
    "    if array[i] % 7 == 0:\n",
    "        array[i] = 0"
   ]
  },
  {
   "cell_type": "code",
   "execution_count": 96,
   "id": "fac046d8",
   "metadata": {},
   "outputs": [
    {
     "data": {
      "text/plain": [
       "array([   2,    3,    4,    5,    6,    0,    8,    9,   10,   11,   12,\n",
       "         13,    0,   15,   16,   17,   18,   19,   20,    0,   22,   23,\n",
       "         24,   25,   26,   27,    0,   29,   30,   31,   32,   33,   34,\n",
       "          0,   36,   37,   38,   39,   40,   41,    0,   43,   44,   45,\n",
       "         46,   47,   48,    0,   50,   51,   52,   53,   54,   55,    0,\n",
       "         57,   58,   59,   60,   61,   62,    0,   64,   65,   66,   67,\n",
       "         68,   69,    0,   71,   72,   73,   74,   75,   76,    0,   78,\n",
       "         79,   80,   81,   82,   83,    0,   85,   86,   87,   88,   89,\n",
       "         90,    0,   92,   93,   94,   95,   96,   97,    0,   99,  100,\n",
       "        101,  102,  103,  104,    0,  106,  107,  108,  109,  110,  111,\n",
       "          0,  113,  114,  115,  116,  117,  118,    0,  120,  121,  122,\n",
       "        123,  124,  125,    0,  127,  128,  129,  130,  131,  132,    0,\n",
       "        134,  135,  136,  137,  138,  139,    0,  141,  142,  143,  144,\n",
       "        145,  146,    0,  148,  149,  150,  151,  152,  153,    0,  155,\n",
       "        156,  157,  158,  159,  160,    0,  162,  163,  164,  165,  166,\n",
       "        167,    0,  169,  170,  171,  172,  173,  174,    0,  176,  177,\n",
       "        178,  179,  180,  181,    0,  183,  184,  185,  186,  187,  188,\n",
       "          0,  190,  191,  192,  193,  194,  195,    0,  197,  198,  199,\n",
       "        200,  201,  202,    0,  204,  205,  206,  207,  208,  209,    0,\n",
       "        211,  212,  213,  214,  215,  216,    0,  218,  219,  220,  221,\n",
       "        222,  223,    0,  225,  226,  227,  228,  229,  230,    0,  232,\n",
       "        233,  234,  235,  236,  237,    0,  239,  240,  241,  242,  243,\n",
       "        244,    0,  246,  247,  248,  249,  250,  251,    0,  253,  254,\n",
       "        255,  256,  257,  258,    0,  260,  261,  262,  263,  264,  265,\n",
       "          0,  267,  268,  269,  270,  271,  272,    0,  274,  275,  276,\n",
       "        277,  278,  279,    0,  281,  282,  283,  284,  285,  286,    0,\n",
       "        288,  289,  290,  291,  292,  293,    0,  295,  296,  297,  298,\n",
       "        299,  300,    0,  302,  303,  304,  305,  306,  307,    0,  309,\n",
       "        310,  311,  312,  313,  314,    0,  316,  317,  318,  319,  320,\n",
       "        321,    0,  323,  324,  325,  326,  327,  328,    0,  330,  331,\n",
       "        332,  333,  334,  335,    0,  337,  338,  339,  340,  341,  342,\n",
       "          0,  344,  345,  346,  347,  348,  349,    0,  351,  352,  353,\n",
       "        354,  355,  356,    0,  358,  359,  360,  361,  362,  363,    0,\n",
       "        365,  366,  367,  368,  369,  370,    0,  372,  373,  374,  375,\n",
       "        376,  377,    0,  379,  380,  381,  382,  383,  384,    0,  386,\n",
       "        387,  388,  389,  390,  391,    0,  393,  394,  395,  396,  397,\n",
       "        398,    0,  400,  401,  402,  403,  404,  405,    0,  407,  408,\n",
       "        409,  410,  411,  412,    0,  414,  415,  416,  417,  418,  419,\n",
       "          0,  421,  422,  423,  424,  425,  426,    0,  428,  429,  430,\n",
       "        431,  432,  433,    0,  435,  436,  437,  438,  439,  440,    0,\n",
       "        442,  443,  444,  445,  446,  447,    0,  449,  450,  451,  452,\n",
       "        453,  454,    0,  456,  457,  458,  459,  460,  461,    0,  463,\n",
       "        464,  465,  466,  467,  468,    0,  470,  471,  472,  473,  474,\n",
       "        475,    0,  477,  478,  479,  480,  481,  482,    0,  484,  485,\n",
       "        486,  487,  488,  489,    0,  491,  492,  493,  494,  495,  496,\n",
       "          0,  498,  499,  500,  501,  502,  503,    0,  505,  506,  507,\n",
       "        508,  509,  510,    0,  512,  513,  514,  515,  516,  517,    0,\n",
       "        519,  520,  521,  522,  523,  524,    0,  526,  527,  528,  529,\n",
       "        530,  531,    0,  533,  534,  535,  536,  537,  538,    0,  540,\n",
       "        541,  542,  543,  544,  545,    0,  547,  548,  549,  550,  551,\n",
       "        552,    0,  554,  555,  556,  557,  558,  559,    0,  561,  562,\n",
       "        563,  564,  565,  566,    0,  568,  569,  570,  571,  572,  573,\n",
       "          0,  575,  576,  577,  578,  579,  580,    0,  582,  583,  584,\n",
       "        585,  586,  587,    0,  589,  590,  591,  592,  593,  594,    0,\n",
       "        596,  597,  598,  599,  600,  601,    0,  603,  604,  605,  606,\n",
       "        607,  608,    0,  610,  611,  612,  613,  614,  615,    0,  617,\n",
       "        618,  619,  620,  621,  622,    0,  624,  625,  626,  627,  628,\n",
       "        629,    0,  631,  632,  633,  634,  635,  636,    0,  638,  639,\n",
       "        640,  641,  642,  643,    0,  645,  646,  647,  648,  649,  650,\n",
       "          0,  652,  653,  654,  655,  656,  657,    0,  659,  660,  661,\n",
       "        662,  663,  664,    0,  666,  667,  668,  669,  670,  671,    0,\n",
       "        673,  674,  675,  676,  677,  678,    0,  680,  681,  682,  683,\n",
       "        684,  685,    0,  687,  688,  689,  690,  691,  692,    0,  694,\n",
       "        695,  696,  697,  698,  699,    0,  701,  702,  703,  704,  705,\n",
       "        706,    0,  708,  709,  710,  711,  712,  713,    0,  715,  716,\n",
       "        717,  718,  719,  720,    0,  722,  723,  724,  725,  726,  727,\n",
       "          0,  729,  730,  731,  732,  733,  734,    0,  736,  737,  738,\n",
       "        739,  740,  741,    0,  743,  744,  745,  746,  747,  748,    0,\n",
       "        750,  751,  752,  753,  754,  755,    0,  757,  758,  759,  760,\n",
       "        761,  762,    0,  764,  765,  766,  767,  768,  769,    0,  771,\n",
       "        772,  773,  774,  775,  776,    0,  778,  779,  780,  781,  782,\n",
       "        783,    0,  785,  786,  787,  788,  789,  790,    0,  792,  793,\n",
       "        794,  795,  796,  797,    0,  799,  800,  801,  802,  803,  804,\n",
       "          0,  806,  807,  808,  809,  810,  811,    0,  813,  814,  815,\n",
       "        816,  817,  818,    0,  820,  821,  822,  823,  824,  825,    0,\n",
       "        827,  828,  829,  830,  831,  832,    0,  834,  835,  836,  837,\n",
       "        838,  839,    0,  841,  842,  843,  844,  845,  846,    0,  848,\n",
       "        849,  850,  851,  852,  853,    0,  855,  856,  857,  858,  859,\n",
       "        860,    0,  862,  863,  864,  865,  866,  867,    0,  869,  870,\n",
       "        871,  872,  873,  874,    0,  876,  877,  878,  879,  880,  881,\n",
       "          0,  883,  884,  885,  886,  887,  888,    0,  890,  891,  892,\n",
       "        893,  894,  895,    0,  897,  898,  899,  900,  901,  902,    0,\n",
       "        904,  905,  906,  907,  908,  909,    0,  911,  912,  913,  914,\n",
       "        915,  916,    0,  918,  919,  920,  921,  922,  923,    0,  925,\n",
       "        926,  927,  928,  929,  930,    0,  932,  933,  934,  935,  936,\n",
       "        937,    0,  939,  940,  941,  942,  943,  944,    0,  946,  947,\n",
       "        948,  949,  950,  951,    0,  953,  954,  955,  956,  957,  958,\n",
       "          0,  960,  961,  962,  963,  964,  965,    0,  967,  968,  969,\n",
       "        970,  971,  972,    0,  974,  975,  976,  977,  978,  979,    0,\n",
       "        981,  982,  983,  984,  985,  986,    0,  988,  989,  990,  991,\n",
       "        992,  993,    0,  995,  996,  997,  998,  999, 1000])"
      ]
     },
     "execution_count": 96,
     "metadata": {},
     "output_type": "execute_result"
    }
   ],
   "source": [
    "array"
   ]
  },
  {
   "cell_type": "code",
   "execution_count": 103,
   "id": "e098d27d",
   "metadata": {},
   "outputs": [],
   "source": [
    "nonZero = array!=0"
   ]
  },
  {
   "cell_type": "code",
   "execution_count": 104,
   "id": "2897cde3",
   "metadata": {},
   "outputs": [
    {
     "data": {
      "text/plain": [
       "array([   2,    3,    4,    5,    6,    8,    9,   10,   11,   12,   13,\n",
       "         15,   16,   17,   18,   19,   20,   22,   23,   24,   25,   26,\n",
       "         27,   29,   30,   31,   32,   33,   34,   36,   37,   38,   39,\n",
       "         40,   41,   43,   44,   45,   46,   47,   48,   50,   51,   52,\n",
       "         53,   54,   55,   57,   58,   59,   60,   61,   62,   64,   65,\n",
       "         66,   67,   68,   69,   71,   72,   73,   74,   75,   76,   78,\n",
       "         79,   80,   81,   82,   83,   85,   86,   87,   88,   89,   90,\n",
       "         92,   93,   94,   95,   96,   97,   99,  100,  101,  102,  103,\n",
       "        104,  106,  107,  108,  109,  110,  111,  113,  114,  115,  116,\n",
       "        117,  118,  120,  121,  122,  123,  124,  125,  127,  128,  129,\n",
       "        130,  131,  132,  134,  135,  136,  137,  138,  139,  141,  142,\n",
       "        143,  144,  145,  146,  148,  149,  150,  151,  152,  153,  155,\n",
       "        156,  157,  158,  159,  160,  162,  163,  164,  165,  166,  167,\n",
       "        169,  170,  171,  172,  173,  174,  176,  177,  178,  179,  180,\n",
       "        181,  183,  184,  185,  186,  187,  188,  190,  191,  192,  193,\n",
       "        194,  195,  197,  198,  199,  200,  201,  202,  204,  205,  206,\n",
       "        207,  208,  209,  211,  212,  213,  214,  215,  216,  218,  219,\n",
       "        220,  221,  222,  223,  225,  226,  227,  228,  229,  230,  232,\n",
       "        233,  234,  235,  236,  237,  239,  240,  241,  242,  243,  244,\n",
       "        246,  247,  248,  249,  250,  251,  253,  254,  255,  256,  257,\n",
       "        258,  260,  261,  262,  263,  264,  265,  267,  268,  269,  270,\n",
       "        271,  272,  274,  275,  276,  277,  278,  279,  281,  282,  283,\n",
       "        284,  285,  286,  288,  289,  290,  291,  292,  293,  295,  296,\n",
       "        297,  298,  299,  300,  302,  303,  304,  305,  306,  307,  309,\n",
       "        310,  311,  312,  313,  314,  316,  317,  318,  319,  320,  321,\n",
       "        323,  324,  325,  326,  327,  328,  330,  331,  332,  333,  334,\n",
       "        335,  337,  338,  339,  340,  341,  342,  344,  345,  346,  347,\n",
       "        348,  349,  351,  352,  353,  354,  355,  356,  358,  359,  360,\n",
       "        361,  362,  363,  365,  366,  367,  368,  369,  370,  372,  373,\n",
       "        374,  375,  376,  377,  379,  380,  381,  382,  383,  384,  386,\n",
       "        387,  388,  389,  390,  391,  393,  394,  395,  396,  397,  398,\n",
       "        400,  401,  402,  403,  404,  405,  407,  408,  409,  410,  411,\n",
       "        412,  414,  415,  416,  417,  418,  419,  421,  422,  423,  424,\n",
       "        425,  426,  428,  429,  430,  431,  432,  433,  435,  436,  437,\n",
       "        438,  439,  440,  442,  443,  444,  445,  446,  447,  449,  450,\n",
       "        451,  452,  453,  454,  456,  457,  458,  459,  460,  461,  463,\n",
       "        464,  465,  466,  467,  468,  470,  471,  472,  473,  474,  475,\n",
       "        477,  478,  479,  480,  481,  482,  484,  485,  486,  487,  488,\n",
       "        489,  491,  492,  493,  494,  495,  496,  498,  499,  500,  501,\n",
       "        502,  503,  505,  506,  507,  508,  509,  510,  512,  513,  514,\n",
       "        515,  516,  517,  519,  520,  521,  522,  523,  524,  526,  527,\n",
       "        528,  529,  530,  531,  533,  534,  535,  536,  537,  538,  540,\n",
       "        541,  542,  543,  544,  545,  547,  548,  549,  550,  551,  552,\n",
       "        554,  555,  556,  557,  558,  559,  561,  562,  563,  564,  565,\n",
       "        566,  568,  569,  570,  571,  572,  573,  575,  576,  577,  578,\n",
       "        579,  580,  582,  583,  584,  585,  586,  587,  589,  590,  591,\n",
       "        592,  593,  594,  596,  597,  598,  599,  600,  601,  603,  604,\n",
       "        605,  606,  607,  608,  610,  611,  612,  613,  614,  615,  617,\n",
       "        618,  619,  620,  621,  622,  624,  625,  626,  627,  628,  629,\n",
       "        631,  632,  633,  634,  635,  636,  638,  639,  640,  641,  642,\n",
       "        643,  645,  646,  647,  648,  649,  650,  652,  653,  654,  655,\n",
       "        656,  657,  659,  660,  661,  662,  663,  664,  666,  667,  668,\n",
       "        669,  670,  671,  673,  674,  675,  676,  677,  678,  680,  681,\n",
       "        682,  683,  684,  685,  687,  688,  689,  690,  691,  692,  694,\n",
       "        695,  696,  697,  698,  699,  701,  702,  703,  704,  705,  706,\n",
       "        708,  709,  710,  711,  712,  713,  715,  716,  717,  718,  719,\n",
       "        720,  722,  723,  724,  725,  726,  727,  729,  730,  731,  732,\n",
       "        733,  734,  736,  737,  738,  739,  740,  741,  743,  744,  745,\n",
       "        746,  747,  748,  750,  751,  752,  753,  754,  755,  757,  758,\n",
       "        759,  760,  761,  762,  764,  765,  766,  767,  768,  769,  771,\n",
       "        772,  773,  774,  775,  776,  778,  779,  780,  781,  782,  783,\n",
       "        785,  786,  787,  788,  789,  790,  792,  793,  794,  795,  796,\n",
       "        797,  799,  800,  801,  802,  803,  804,  806,  807,  808,  809,\n",
       "        810,  811,  813,  814,  815,  816,  817,  818,  820,  821,  822,\n",
       "        823,  824,  825,  827,  828,  829,  830,  831,  832,  834,  835,\n",
       "        836,  837,  838,  839,  841,  842,  843,  844,  845,  846,  848,\n",
       "        849,  850,  851,  852,  853,  855,  856,  857,  858,  859,  860,\n",
       "        862,  863,  864,  865,  866,  867,  869,  870,  871,  872,  873,\n",
       "        874,  876,  877,  878,  879,  880,  881,  883,  884,  885,  886,\n",
       "        887,  888,  890,  891,  892,  893,  894,  895,  897,  898,  899,\n",
       "        900,  901,  902,  904,  905,  906,  907,  908,  909,  911,  912,\n",
       "        913,  914,  915,  916,  918,  919,  920,  921,  922,  923,  925,\n",
       "        926,  927,  928,  929,  930,  932,  933,  934,  935,  936,  937,\n",
       "        939,  940,  941,  942,  943,  944,  946,  947,  948,  949,  950,\n",
       "        951,  953,  954,  955,  956,  957,  958,  960,  961,  962,  963,\n",
       "        964,  965,  967,  968,  969,  970,  971,  972,  974,  975,  976,\n",
       "        977,  978,  979,  981,  982,  983,  984,  985,  986,  988,  989,\n",
       "        990,  991,  992,  993,  995,  996,  997,  998,  999, 1000])"
      ]
     },
     "execution_count": 104,
     "metadata": {},
     "output_type": "execute_result"
    }
   ],
   "source": [
    "array[nonZero]"
   ]
  },
  {
   "cell_type": "markdown",
   "id": "67ec09e9",
   "metadata": {},
   "source": [
    "## ESERCIZIO 3\n",
    "Dato `n`numero intero dispari maggioreo uguale a 5 crea una matrice di numpy che abbia la struttura seguente esemplificata, per il caso `n=7`. \n",
    "\n",
    "`[[0.35012821 0.13462121 0.38492916 0.51293425 0.25255366 0.85166111 0.59550361]\n",
    " [0.47468085 0.         0.         1.         0.         0.         0.18300893]\n",
    " [0.23703845 0.         0.         1.         0.         0.         0.89905447]\n",
    " [0.52372585 1.         1.         1.         1.         1.         0.95780342]\n",
    " [0.51881137 0.         0.         1.         0.         0.         0.03430885]\n",
    " [0.09985312 0.         0.         1.         0.         0.         0.78938087]\n",
    " [0.37453082 0.21909742 0.6154127  0.89541758 0.79158936 0.68202705 0.82876577]`\n",
    " \n",
    "La cornice della matrice deve essere composta di numeri pseudocasuali compresi tra 0 e 1, mentre l'interno deve essere riempito di 0 tranne nella riga e nella colonna mediane, le quali conterrano degli 1.\n",
    " "
   ]
  },
  {
   "cell_type": "code",
   "execution_count": 62,
   "id": "744604f2",
   "metadata": {},
   "outputs": [],
   "source": [
    "n = 20"
   ]
  },
  {
   "cell_type": "code",
   "execution_count": 63,
   "id": "0b950e59",
   "metadata": {},
   "outputs": [],
   "source": [
    "matrice = np.random.uniform(0., 1., (n, n))"
   ]
  },
  {
   "cell_type": "code",
   "execution_count": 64,
   "id": "ff8f0d9b",
   "metadata": {},
   "outputs": [
    {
     "data": {
      "text/plain": [
       "array([[0.72520738, 0.7509061 , 0.85253708, 0.90302193, 0.44859575,\n",
       "        0.24026686, 0.19191095, 0.61331757, 0.37151032, 0.98735077,\n",
       "        0.84939998, 0.73223282, 0.41067836, 0.16257928, 0.11819003,\n",
       "        0.71489284, 0.54116303, 0.33899398, 0.96704095, 0.00886268],\n",
       "       [0.73709213, 0.21950264, 0.77693169, 0.84851201, 0.84141754,\n",
       "        0.98250398, 0.61992173, 0.4654392 , 0.56089013, 0.97165769,\n",
       "        0.92021354, 0.41524845, 0.84473324, 0.34016215, 0.84883753,\n",
       "        0.04389926, 0.3340546 , 0.68099153, 0.01864753, 0.48346091],\n",
       "       [0.18200169, 0.94748952, 0.55558596, 0.98558326, 0.94517215,\n",
       "        0.65420378, 0.79140445, 0.1811728 , 0.82283074, 0.95857863,\n",
       "        0.39091303, 0.80365638, 0.533882  , 0.5460573 , 0.56129642,\n",
       "        0.92641835, 0.41157102, 0.88758381, 0.42102277, 0.17113427],\n",
       "       [0.64418081, 0.09724632, 0.12424174, 0.12846565, 0.82137381,\n",
       "        0.81380812, 0.21366142, 0.4355791 , 0.16456837, 0.73586146,\n",
       "        0.74212208, 0.1693738 , 0.94130466, 0.74144601, 0.40116881,\n",
       "        0.22012318, 0.0351372 , 0.38611894, 0.60379588, 0.15706097],\n",
       "       [0.35019719, 0.94967191, 0.63757664, 0.70729924, 0.53889798,\n",
       "        0.1370078 , 0.53685935, 0.9297321 , 0.6503434 , 0.59225833,\n",
       "        0.05915502, 0.38519049, 0.37147664, 0.11284724, 0.86330021,\n",
       "        0.62608471, 0.5031652 , 0.09377368, 0.50664996, 0.25109035],\n",
       "       [0.49320381, 0.81704122, 0.43118829, 0.48049598, 0.24753801,\n",
       "        0.33055511, 0.22917739, 0.88802594, 0.77943485, 0.23580976,\n",
       "        0.94777214, 0.9859321 , 0.71320862, 0.96055313, 0.66568402,\n",
       "        0.12855921, 0.98942184, 0.46230944, 0.30916547, 0.64954481],\n",
       "       [0.80170126, 0.4364057 , 0.47149132, 0.18839083, 0.03609919,\n",
       "        0.31872325, 0.93900112, 0.36373814, 0.00556889, 0.75699633,\n",
       "        0.94985495, 0.44913326, 0.20721225, 0.03011004, 0.26923803,\n",
       "        0.17069549, 0.94061724, 0.98524442, 0.29835203, 0.06742181],\n",
       "       [0.30902644, 0.87702946, 0.52273053, 0.01507478, 0.23464538,\n",
       "        0.94229922, 0.92435106, 0.44436431, 0.03862903, 0.0089448 ,\n",
       "        0.55330407, 0.80124276, 0.02895372, 0.80556724, 0.67876522,\n",
       "        0.93410572, 0.13388429, 0.33654478, 0.31428827, 0.82863475],\n",
       "       [0.10746833, 0.6639901 , 0.49274441, 0.80719575, 0.0306119 ,\n",
       "        0.37317019, 0.56722162, 0.24405832, 0.438929  , 0.8568311 ,\n",
       "        0.81533073, 0.50446992, 0.40709074, 0.57284774, 0.61451145,\n",
       "        0.76394016, 0.62680618, 0.74825692, 0.53667513, 0.05139925],\n",
       "       [0.08987559, 0.18222875, 0.27764558, 0.20045646, 0.04657494,\n",
       "        0.79782715, 0.78404082, 0.10526648, 0.16637962, 0.51926396,\n",
       "        0.25306352, 0.27638264, 0.79002362, 0.59047041, 0.81909057,\n",
       "        0.96428336, 0.62977811, 0.56460143, 0.36966042, 0.39388205],\n",
       "       [0.10168912, 0.37092828, 0.98640859, 0.09241187, 0.78311877,\n",
       "        0.08148849, 0.82994778, 0.08041445, 0.20220256, 0.03268735,\n",
       "        0.81696331, 0.43625752, 0.02846948, 0.41997319, 0.1940262 ,\n",
       "        0.65034862, 0.22566657, 0.79284113, 0.04591268, 0.97700051],\n",
       "       [0.25206465, 0.24164859, 0.14709644, 0.23644994, 0.36738787,\n",
       "        0.72368047, 0.53000058, 0.24386715, 0.36009911, 0.84185047,\n",
       "        0.87795798, 0.62701935, 0.49933103, 0.25352823, 0.03792148,\n",
       "        0.97351836, 0.40057391, 0.72785299, 0.38329405, 0.28397692],\n",
       "       [0.1843873 , 0.74751264, 0.78423668, 0.41698495, 0.83719486,\n",
       "        0.36212803, 0.4275569 , 0.61520171, 0.9253508 , 0.0094129 ,\n",
       "        0.50229047, 0.80948013, 0.50565196, 0.83329807, 0.80246676,\n",
       "        0.01666519, 0.25418545, 0.24237631, 0.57119495, 0.35353266],\n",
       "       [0.90058968, 0.89852585, 0.94643277, 0.18636885, 0.18643349,\n",
       "        0.24166716, 0.75346498, 0.14184266, 0.73198542, 0.26838011,\n",
       "        0.41160828, 0.77171767, 0.09267584, 0.57696841, 0.99878146,\n",
       "        0.67075365, 0.05506749, 0.25112193, 0.93442335, 0.5356015 ],\n",
       "       [0.17906952, 0.27969176, 0.70638169, 0.3095874 , 0.68655001,\n",
       "        0.28832659, 0.12407698, 0.35893385, 0.88125187, 0.70264564,\n",
       "        0.84552926, 0.95700461, 0.92682234, 0.39221157, 0.79715547,\n",
       "        0.08174757, 0.75462317, 0.6145133 , 0.80593193, 0.60312384],\n",
       "       [0.64190106, 0.52400636, 0.91759394, 0.47655968, 0.03945703,\n",
       "        0.22918696, 0.84683299, 0.13446871, 0.10432992, 0.96181543,\n",
       "        0.89901889, 0.15691327, 0.73928678, 0.159561  , 0.39510108,\n",
       "        0.65453112, 0.96199963, 0.08801733, 0.93378375, 0.69512557],\n",
       "       [0.40110018, 0.70850136, 0.46102526, 0.13535493, 0.85663058,\n",
       "        0.99750125, 0.54385958, 0.20958704, 0.26148152, 0.68791275,\n",
       "        0.39724479, 0.61330453, 0.73720574, 0.68423154, 0.34646704,\n",
       "        0.84296544, 0.30482115, 0.56490606, 0.46448371, 0.41519721],\n",
       "       [0.10318348, 0.82303425, 0.43215038, 0.57704031, 0.5074933 ,\n",
       "        0.37375063, 0.64039131, 0.99097597, 0.86045911, 0.29679961,\n",
       "        0.22047462, 0.95244386, 0.2326189 , 0.06162948, 0.00391442,\n",
       "        0.72594321, 0.74478059, 0.46956612, 0.89417621, 0.91245928],\n",
       "       [0.7158038 , 0.40122983, 0.78720507, 0.61098591, 0.70253852,\n",
       "        0.33507361, 0.85100861, 0.76653176, 0.10658977, 0.96433932,\n",
       "        0.16980573, 0.51673329, 0.28313724, 0.21966971, 0.44903473,\n",
       "        0.50331054, 0.60943286, 0.53524598, 0.74563324, 0.62609242],\n",
       "       [0.60901356, 0.1626882 , 0.6137746 , 0.9041917 , 0.82898672,\n",
       "        0.45675257, 0.37424152, 0.56630324, 0.5758432 , 0.72869287,\n",
       "        0.1450592 , 0.37985944, 0.15506081, 0.139341  , 0.10683578,\n",
       "        0.17575167, 0.63818011, 0.17139395, 0.57772666, 0.31769759]])"
      ]
     },
     "execution_count": 64,
     "metadata": {},
     "output_type": "execute_result"
    }
   ],
   "source": [
    "matrice"
   ]
  },
  {
   "cell_type": "code",
   "execution_count": 65,
   "id": "ebc8cbca",
   "metadata": {},
   "outputs": [],
   "source": [
    "for i in range (1,n-1):\n",
    "    matrice[i:n-1,i:n-1] = 0\n",
    "    matrice[n//2, i] = 1\n",
    "    matrice[i, n//2] = 1"
   ]
  },
  {
   "cell_type": "code",
   "execution_count": 66,
   "id": "bc232659",
   "metadata": {},
   "outputs": [
    {
     "data": {
      "text/plain": [
       "array([[0.72520738, 0.7509061 , 0.85253708, 0.90302193, 0.44859575,\n",
       "        0.24026686, 0.19191095, 0.61331757, 0.37151032, 0.98735077,\n",
       "        0.84939998, 0.73223282, 0.41067836, 0.16257928, 0.11819003,\n",
       "        0.71489284, 0.54116303, 0.33899398, 0.96704095, 0.00886268],\n",
       "       [0.73709213, 0.        , 0.        , 0.        , 0.        ,\n",
       "        0.        , 0.        , 0.        , 0.        , 0.        ,\n",
       "        1.        , 0.        , 0.        , 0.        , 0.        ,\n",
       "        0.        , 0.        , 0.        , 0.        , 0.48346091],\n",
       "       [0.18200169, 0.        , 0.        , 0.        , 0.        ,\n",
       "        0.        , 0.        , 0.        , 0.        , 0.        ,\n",
       "        1.        , 0.        , 0.        , 0.        , 0.        ,\n",
       "        0.        , 0.        , 0.        , 0.        , 0.17113427],\n",
       "       [0.64418081, 0.        , 0.        , 0.        , 0.        ,\n",
       "        0.        , 0.        , 0.        , 0.        , 0.        ,\n",
       "        1.        , 0.        , 0.        , 0.        , 0.        ,\n",
       "        0.        , 0.        , 0.        , 0.        , 0.15706097],\n",
       "       [0.35019719, 0.        , 0.        , 0.        , 0.        ,\n",
       "        0.        , 0.        , 0.        , 0.        , 0.        ,\n",
       "        1.        , 0.        , 0.        , 0.        , 0.        ,\n",
       "        0.        , 0.        , 0.        , 0.        , 0.25109035],\n",
       "       [0.49320381, 0.        , 0.        , 0.        , 0.        ,\n",
       "        0.        , 0.        , 0.        , 0.        , 0.        ,\n",
       "        1.        , 0.        , 0.        , 0.        , 0.        ,\n",
       "        0.        , 0.        , 0.        , 0.        , 0.64954481],\n",
       "       [0.80170126, 0.        , 0.        , 0.        , 0.        ,\n",
       "        0.        , 0.        , 0.        , 0.        , 0.        ,\n",
       "        1.        , 0.        , 0.        , 0.        , 0.        ,\n",
       "        0.        , 0.        , 0.        , 0.        , 0.06742181],\n",
       "       [0.30902644, 0.        , 0.        , 0.        , 0.        ,\n",
       "        0.        , 0.        , 0.        , 0.        , 0.        ,\n",
       "        1.        , 0.        , 0.        , 0.        , 0.        ,\n",
       "        0.        , 0.        , 0.        , 0.        , 0.82863475],\n",
       "       [0.10746833, 0.        , 0.        , 0.        , 0.        ,\n",
       "        0.        , 0.        , 0.        , 0.        , 0.        ,\n",
       "        1.        , 0.        , 0.        , 0.        , 0.        ,\n",
       "        0.        , 0.        , 0.        , 0.        , 0.05139925],\n",
       "       [0.08987559, 0.        , 0.        , 0.        , 0.        ,\n",
       "        0.        , 0.        , 0.        , 0.        , 0.        ,\n",
       "        1.        , 0.        , 0.        , 0.        , 0.        ,\n",
       "        0.        , 0.        , 0.        , 0.        , 0.39388205],\n",
       "       [0.10168912, 1.        , 1.        , 1.        , 1.        ,\n",
       "        1.        , 1.        , 1.        , 1.        , 1.        ,\n",
       "        1.        , 1.        , 1.        , 1.        , 1.        ,\n",
       "        1.        , 1.        , 1.        , 1.        , 0.97700051],\n",
       "       [0.25206465, 0.        , 0.        , 0.        , 0.        ,\n",
       "        0.        , 0.        , 0.        , 0.        , 0.        ,\n",
       "        1.        , 0.        , 0.        , 0.        , 0.        ,\n",
       "        0.        , 0.        , 0.        , 0.        , 0.28397692],\n",
       "       [0.1843873 , 0.        , 0.        , 0.        , 0.        ,\n",
       "        0.        , 0.        , 0.        , 0.        , 0.        ,\n",
       "        1.        , 0.        , 0.        , 0.        , 0.        ,\n",
       "        0.        , 0.        , 0.        , 0.        , 0.35353266],\n",
       "       [0.90058968, 0.        , 0.        , 0.        , 0.        ,\n",
       "        0.        , 0.        , 0.        , 0.        , 0.        ,\n",
       "        1.        , 0.        , 0.        , 0.        , 0.        ,\n",
       "        0.        , 0.        , 0.        , 0.        , 0.5356015 ],\n",
       "       [0.17906952, 0.        , 0.        , 0.        , 0.        ,\n",
       "        0.        , 0.        , 0.        , 0.        , 0.        ,\n",
       "        1.        , 0.        , 0.        , 0.        , 0.        ,\n",
       "        0.        , 0.        , 0.        , 0.        , 0.60312384],\n",
       "       [0.64190106, 0.        , 0.        , 0.        , 0.        ,\n",
       "        0.        , 0.        , 0.        , 0.        , 0.        ,\n",
       "        1.        , 0.        , 0.        , 0.        , 0.        ,\n",
       "        0.        , 0.        , 0.        , 0.        , 0.69512557],\n",
       "       [0.40110018, 0.        , 0.        , 0.        , 0.        ,\n",
       "        0.        , 0.        , 0.        , 0.        , 0.        ,\n",
       "        1.        , 0.        , 0.        , 0.        , 0.        ,\n",
       "        0.        , 0.        , 0.        , 0.        , 0.41519721],\n",
       "       [0.10318348, 0.        , 0.        , 0.        , 0.        ,\n",
       "        0.        , 0.        , 0.        , 0.        , 0.        ,\n",
       "        1.        , 0.        , 0.        , 0.        , 0.        ,\n",
       "        0.        , 0.        , 0.        , 0.        , 0.91245928],\n",
       "       [0.7158038 , 0.        , 0.        , 0.        , 0.        ,\n",
       "        0.        , 0.        , 0.        , 0.        , 0.        ,\n",
       "        1.        , 0.        , 0.        , 0.        , 0.        ,\n",
       "        0.        , 0.        , 0.        , 0.        , 0.62609242],\n",
       "       [0.60901356, 0.1626882 , 0.6137746 , 0.9041917 , 0.82898672,\n",
       "        0.45675257, 0.37424152, 0.56630324, 0.5758432 , 0.72869287,\n",
       "        0.1450592 , 0.37985944, 0.15506081, 0.139341  , 0.10683578,\n",
       "        0.17575167, 0.63818011, 0.17139395, 0.57772666, 0.31769759]])"
      ]
     },
     "execution_count": 66,
     "metadata": {},
     "output_type": "execute_result"
    }
   ],
   "source": [
    "matrice"
   ]
  },
  {
   "cell_type": "code",
   "execution_count": 67,
   "id": "136a9e9f",
   "metadata": {},
   "outputs": [],
   "source": [
    "import matplotlib.pyplot as plt"
   ]
  },
  {
   "cell_type": "code",
   "execution_count": 68,
   "id": "2f52ce17",
   "metadata": {},
   "outputs": [
    {
     "data": {
      "text/plain": [
       "<matplotlib.image.AxesImage at 0x187f5cacfd0>"
      ]
     },
     "execution_count": 68,
     "metadata": {},
     "output_type": "execute_result"
    },
    {
     "data": {
      "image/png": "[encoded data removed]",
      "text/plain": [
       "<Figure size 432x288 with 1 Axes>"
      ]
     },
     "metadata": {
      "needs_background": "light"
     },
     "output_type": "display_data"
    }
   ],
   "source": [
    "plt.imshow(matrice, cmap=\"gnuplot\")"
   ]
  },
  {
   "cell_type": "code",
   "execution_count": null,
   "id": "ea7cd288",
   "metadata": {},
   "outputs": [],
   "source": []
  }
 ],
 "metadata": {
  "kernelspec": {
   "display_name": "Python 3 (ipykernel)",
   "language": "python",
   "name": "python3"
  },
  "language_info": {
   "codemirror_mode": {
    "name": "ipython",
    "version": 3
   },
   "file_extension": ".py",
   "mimetype": "text/x-python",
   "name": "python",
   "nbconvert_exporter": "python",
   "pygments_lexer": "ipython3",
   "version": "3.9.12"
  }
 },
 "nbformat": 4,
 "nbformat_minor": 5
}
