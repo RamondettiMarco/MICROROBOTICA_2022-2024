{
 "cells": [
  {
   "cell_type": "markdown",
   "id": "e0d956e5",
   "metadata": {},
   "source": [
    "**Reference matplotlib**\n",
    "https://matplotlib.org/stable/api/index\n",
    "\n",
    "**Exaples matplotlib**\n",
    "https://matplotlib.org/stable/plot_types/index.html\n",
    "\n",
    "**Nicolas reference**\n",
    "https://github.com/rougier\n",
    "\n",
    "Grafici che tratteremo:\n",
    "- linee\n",
    "- dispersione\n",
    "- istogrammi (non confondere con grafico a barre). Si usa la funzione *hist()* --> calcola la distribuzione di frequenze assolute a partire da un array di valori x. \n",
    "- matrici"
   ]
  },
  {
   "cell_type": "code",
   "execution_count": 6,
   "id": "6bfe579f",
   "metadata": {},
   "outputs": [],
   "source": [
    "import matplotlib.pyplot as plt\n",
    "import numpy as np"
   ]
  },
  {
   "cell_type": "code",
   "execution_count": 15,
   "id": "f089426a",
   "metadata": {},
   "outputs": [
    {
     "name": "stderr",
     "output_type": "stream",
     "text": [
      "C:\\Users\\utente\\AppData\\Local\\Temp\\ipykernel_14020\\1715309317.py:2: RuntimeWarning: divide by zero encountered in true_divide\n",
      "  f1 = 1/x\n"
     ]
    }
   ],
   "source": [
    "x = np.linspace(-1., 1., 101)    #se metto 101 becca lo 0 --> da errore ma elimina il punto calcolato su 0 e funziona lo stess0\n",
    "f1 = 1/x"
   ]
  },
  {
   "cell_type": "code",
   "execution_count": 16,
   "id": "9884d9d0",
   "metadata": {},
   "outputs": [
    {
     "data": {
      "image/png": "[encoded data removed]",
      "text/plain": [
       "<Figure size 432x432 with 1 Axes>"
      ]
     },
     "metadata": {
      "needs_background": "light"
     },
     "output_type": "display_data"
    }
   ],
   "source": [
    "fig, ax = plt.subplots(figsize = (6, 6))    #dimensione in pollici\n",
    "ax.grid(\"both\")    #devo dire su quali assi, both entrambi\n",
    "ax.plot(x, f1, label=\"Funzione f1: 1/x.\")\n",
    "\n",
    "plt.show()"
   ]
  },
  {
   "cell_type": "code",
   "execution_count": 17,
   "id": "6063e01a",
   "metadata": {},
   "outputs": [
    {
     "data": {
      "text/plain": [
       "array([ -1.        ,  -1.02040816,  -1.04166667,  -1.06382979,\n",
       "        -1.08695652,  -1.11111111,  -1.13636364,  -1.1627907 ,\n",
       "        -1.19047619,  -1.2195122 ,  -1.25      ,  -1.28205128,\n",
       "        -1.31578947,  -1.35135135,  -1.38888889,  -1.42857143,\n",
       "        -1.47058824,  -1.51515152,  -1.5625    ,  -1.61290323,\n",
       "        -1.66666667,  -1.72413793,  -1.78571429,  -1.85185185,\n",
       "        -1.92307692,  -2.        ,  -2.08333333,  -2.17391304,\n",
       "        -2.27272727,  -2.38095238,  -2.5       ,  -2.63157895,\n",
       "        -2.77777778,  -2.94117647,  -3.125     ,  -3.33333333,\n",
       "        -3.57142857,  -3.84615385,  -4.16666667,  -4.54545455,\n",
       "        -5.        ,  -5.55555556,  -6.25      ,  -7.14285714,\n",
       "        -8.33333333, -10.        , -12.5       , -16.66666667,\n",
       "       -25.        , -50.        ,          inf,  50.        ,\n",
       "        25.        ,  16.66666667,  12.5       ,  10.        ,\n",
       "         8.33333333,   7.14285714,   6.25      ,   5.55555556,\n",
       "         5.        ,   4.54545455,   4.16666667,   3.84615385,\n",
       "         3.57142857,   3.33333333,   3.125     ,   2.94117647,\n",
       "         2.77777778,   2.63157895,   2.5       ,   2.38095238,\n",
       "         2.27272727,   2.17391304,   2.08333333,   2.        ,\n",
       "         1.92307692,   1.85185185,   1.78571429,   1.72413793,\n",
       "         1.66666667,   1.61290323,   1.5625    ,   1.51515152,\n",
       "         1.47058824,   1.42857143,   1.38888889,   1.35135135,\n",
       "         1.31578947,   1.28205128,   1.25      ,   1.2195122 ,\n",
       "         1.19047619,   1.1627907 ,   1.13636364,   1.11111111,\n",
       "         1.08695652,   1.06382979,   1.04166667,   1.02040816,\n",
       "         1.        ])"
      ]
     },
     "execution_count": 17,
     "metadata": {},
     "output_type": "execute_result"
    }
   ],
   "source": [
    "f1     #mi trova inf in nella posizione asse x = 0"
   ]
  },
  {
   "cell_type": "code",
   "execution_count": null,
   "id": "77f20407",
   "metadata": {},
   "outputs": [],
   "source": []
  }
 ],
 "metadata": {
  "kernelspec": {
   "display_name": "Python 3 (ipykernel)",
   "language": "python",
   "name": "python3"
  },
  "language_info": {
   "codemirror_mode": {
    "name": "ipython",
    "version": 3
   },
   "file_extension": ".py",
   "mimetype": "text/x-python",
   "name": "python",
   "nbconvert_exporter": "python",
   "pygments_lexer": "ipython3",
   "version": "3.9.12"
  }
 },
 "nbformat": 4,
 "nbformat_minor": 5
}
