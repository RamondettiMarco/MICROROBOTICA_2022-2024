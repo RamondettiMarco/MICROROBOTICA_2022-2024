{
 "cells": [
  {
   "cell_type": "markdown",
   "id": "625df389",
   "metadata": {},
   "source": [
    "### ISTOGRAMMI"
   ]
  },
  {
   "cell_type": "code",
   "execution_count": 2,
   "id": "cd8e0f06",
   "metadata": {},
   "outputs": [],
   "source": [
    "import matplotlib.pyplot as plt\n",
    "import numpy as np"
   ]
  },
  {
   "cell_type": "code",
   "execution_count": 10,
   "id": "f9a368bb",
   "metadata": {},
   "outputs": [],
   "source": [
    "n_lanci = 10000\n",
    "dado1 = np.random.randint(1,7, n_lanci)\n",
    "dado2 = np.random.randint(1,7, n_lanci)\n",
    "\n",
    "somma_dadi = dado1 + dado2"
   ]
  },
  {
   "cell_type": "code",
   "execution_count": null,
   "id": "d2893d3f",
   "metadata": {},
   "outputs": [],
   "source": [
    "fig, ax = plt.subplots(figsize = (16,8))\n",
    "\n"
   ]
  }
 ],
 "metadata": {
  "kernelspec": {
   "display_name": "Python 3 (ipykernel)",
   "language": "python",
   "name": "python3"
  },
  "language_info": {
   "codemirror_mode": {
    "name": "ipython",
    "version": 3
   },
   "file_extension": ".py",
   "mimetype": "text/x-python",
   "name": "python",
   "nbconvert_exporter": "python",
   "pygments_lexer": "ipython3",
   "version": "3.9.12"
  }
 },
 "nbformat": 4,
 "nbformat_minor": 5
}
