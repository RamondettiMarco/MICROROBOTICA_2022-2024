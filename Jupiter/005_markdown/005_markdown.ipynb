{
 "cells": [
  {
   "cell_type": "markdown",
   "id": "1b67d339",
   "metadata": {},
   "source": [
    "# Shortcut"
   ]
  },
  {
   "cell_type": "markdown",
   "id": "62a4e482",
   "metadata": {},
   "source": [
    "<a href=\"https://jupyter-notebook.readthedocs.io/en/stable/\"><img src=\"logo.svg\"/></a>"
   ]
  },
  {
   "cell_type": "markdown",
   "id": "3de20501",
   "metadata": {},
   "source": [
    "## Le scorciatoie utili in command mode"
   ]
  },
  {
   "cell_type": "markdown",
   "id": "b2a9067f",
   "metadata": {},
   "source": [
    "Per poterle usare untrare in _command mode_ con `ESC` (bordo blu)"
   ]
  },
  {
   "cell_type": "markdown",
   "id": "11a499ab",
   "metadata": {},
   "source": [
    "* `INVIO` entra in _editing mode_\n",
    "* `a` inserisce una nuova cella sopra (above) la corrente\n",
    "* `b` inserisce una nuova cella sotto (below) la corrente\n",
    "* `CTRL + INVIO` esegue la cella corrente e resta in essa\n",
    "* `SHIFT + INVIO` esegue la cella corrente e si sposta sulla successiva (se non c'è la crea)\n",
    "* `ALT + INVIO` esegue la cella e ne crea una nuova sotto di essa\n",
    "* `m` trasforma la cella corrente in tipo _markdown_\n",
    "* `y` trasforma la cella corrente in tipo _code_\n",
    "* `d d` elimina la cella corrente\n",
    "* `x` `c` `v` taglia o copia la cella corrente e la incolla nella cella sotto (`SHIFT + v`) la incollla sopra)\n",
    "* `z` annulla l'ultima operazione\n",
    "* `FRECCIA GIU` o `SU` per spostarsi fra le celle"
   ]
  },
  {
   "cell_type": "markdown",
   "id": "0ce7f432",
   "metadata": {},
   "source": [
    "## Le scorciatorie utili in editing mode"
   ]
  },
  {
   "cell_type": "markdown",
   "id": "9a05a12b",
   "metadata": {},
   "source": [
    "### Le seguenti sono utili nelle celle di tipo _Code_"
   ]
  },
  {
   "cell_type": "markdown",
   "id": "99940f42",
   "metadata": {},
   "source": [
    "1. `SHIFT + TAB` su un oggetto del codice mostra la documentazione (Docstring) \n",
    "2. `CTRL + SHIFT + -` divide la cella corrente nel punto dove si trova il cursore\n",
    "3. `Esc + F` apre la finestra di dialogo _Trova e sostituisci_\n",
    "4. `SHIFT + L` mostra i numeri di riga"
   ]
  },
  {
   "cell_type": "markdown",
   "id": "a0885ded",
   "metadata": {},
   "source": [
    "## Altre scorciatoie utili"
   ]
  },
  {
   "cell_type": "markdown",
   "id": "0a83fcea",
   "metadata": {},
   "source": [
    "|Modalità|Menu|Shortcut|Azione|\n",
    "|:-|:-:|-:-|:-|\n",
    "|indifferente|File|`CTRL + S`|Salva il documento|\n",
    "|command mode|Kernel|`i i`|Interrompe l'esecuzione|\n",
    "|command mode|Kernel|`0 0`|Interrompe l'esecuzione|\n",
    "|command mode|Kernel|`h`|Visualizza l'elenco delle shortcut|"
   ]
  }
 ],
 "metadata": {
  "kernelspec": {
   "display_name": "Python 3 (ipykernel)",
   "language": "python",
   "name": "python3"
  },
  "language_info": {
   "codemirror_mode": {
    "name": "ipython",
    "version": 3
   },
   "file_extension": ".py",
   "mimetype": "text/x-python",
   "name": "python",
   "nbconvert_exporter": "python",
   "pygments_lexer": "ipython3",
   "version": "3.9.12"
  }
 },
 "nbformat": 4,
 "nbformat_minor": 5
}
