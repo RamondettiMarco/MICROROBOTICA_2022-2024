{
 "cells": [
  {
   "cell_type": "markdown",
   "id": "b825da25",
   "metadata": {},
   "source": [
    "PAG 73 NUM 17\n",
    "Utilizzare la list comprehension che crei una lista con le potenze di 2 minori o uguali a un valore inserito dall'utente."
   ]
  },
  {
   "cell_type": "code",
   "execution_count": 50,
   "id": "5b038bad",
   "metadata": {},
   "outputs": [],
   "source": [
    "n = 100"
   ]
  },
  {
   "cell_type": "code",
   "execution_count": 51,
   "id": "a756c5bf",
   "metadata": {},
   "outputs": [],
   "source": [
    "l = [2**i for i in range(0,n) if 2**i <= n ]"
   ]
  },
  {
   "cell_type": "code",
   "execution_count": 52,
   "id": "4725c354",
   "metadata": {},
   "outputs": [
    {
     "data": {
      "text/plain": [
       "[1, 2, 4, 8, 16, 32, 64]"
      ]
     },
     "execution_count": 52,
     "metadata": {},
     "output_type": "execute_result"
    }
   ],
   "source": [
    "l"
   ]
  },
  {
   "cell_type": "markdown",
   "id": "96242384",
   "metadata": {},
   "source": [
    "PAG 73 NUM 18\n",
    "crea lista con tutti i quadrati perfetto minori di 200 dispari"
   ]
  },
  {
   "cell_type": "code",
   "execution_count": 54,
   "id": "1767119f",
   "metadata": {},
   "outputs": [],
   "source": [
    "x = 200"
   ]
  },
  {
   "cell_type": "code",
   "execution_count": 78,
   "id": "f01c9e9e",
   "metadata": {},
   "outputs": [],
   "source": [
    "q = [i*i for i in range(0,n) if i % 2 != 0 and i*i < x]"
   ]
  },
  {
   "cell_type": "code",
   "execution_count": 79,
   "id": "e05eeeac",
   "metadata": {},
   "outputs": [
    {
     "data": {
      "text/plain": [
       "[1, 9, 25, 49, 81, 121, 169]"
      ]
     },
     "execution_count": 79,
     "metadata": {},
     "output_type": "execute_result"
    }
   ],
   "source": [
    "q"
   ]
  },
  {
   "cell_type": "markdown",
   "id": "ab0968df",
   "metadata": {},
   "source": [
    "PAG 73 NUM 20\n",
    "Creare le tabelle pitagoriche con le list comprehension\n",
    "matrice da 1 a 9\n"
   ]
  },
  {
   "cell_type": "code",
   "execution_count": 121,
   "id": "8b26b7bf",
   "metadata": {},
   "outputs": [],
   "source": [
    "lista = [[i*j for i in range(1, 11)] for j in range(1,10)]"
   ]
  },
  {
   "cell_type": "code",
   "execution_count": 122,
   "id": "a98d6fc9",
   "metadata": {},
   "outputs": [
    {
     "data": {
      "text/plain": [
       "[[1, 2, 3, 4, 5, 6, 7, 8, 9, 10],\n",
       " [2, 4, 6, 8, 10, 12, 14, 16, 18, 20],\n",
       " [3, 6, 9, 12, 15, 18, 21, 24, 27, 30],\n",
       " [4, 8, 12, 16, 20, 24, 28, 32, 36, 40],\n",
       " [5, 10, 15, 20, 25, 30, 35, 40, 45, 50],\n",
       " [6, 12, 18, 24, 30, 36, 42, 48, 54, 60],\n",
       " [7, 14, 21, 28, 35, 42, 49, 56, 63, 70],\n",
       " [8, 16, 24, 32, 40, 48, 56, 64, 72, 80],\n",
       " [9, 18, 27, 36, 45, 54, 63, 72, 81, 90]]"
      ]
     },
     "execution_count": 122,
     "metadata": {},
     "output_type": "execute_result"
    }
   ],
   "source": [
    "lista"
   ]
  },
  {
   "cell_type": "markdown",
   "id": "8aa8d150",
   "metadata": {},
   "source": [
    "------------------------------------------------"
   ]
  },
  {
   "cell_type": "markdown",
   "id": "e0f7071f",
   "metadata": {},
   "source": [
    "premessa: dizionari + concetto che tutto è un oggetto. "
   ]
  },
  {
   "cell_type": "code",
   "execution_count": 125,
   "id": "049f6bb1",
   "metadata": {},
   "outputs": [],
   "source": [
    "def somma(a, b):\n",
    "    return a + b\n",
    "\n",
    "def moltiplicazione(a, b):\n",
    "    return a * b\n"
   ]
  },
  {
   "cell_type": "code",
   "execution_count": 126,
   "id": "000bb910",
   "metadata": {},
   "outputs": [],
   "source": [
    "dizionario = {0:somma, 1:moltiplicazione}"
   ]
  },
  {
   "cell_type": "code",
   "execution_count": 128,
   "id": "8746a62a",
   "metadata": {},
   "outputs": [
    {
     "data": {
      "text/plain": [
       "7"
      ]
     },
     "execution_count": 128,
     "metadata": {},
     "output_type": "execute_result"
    }
   ],
   "source": [
    "dizionario[0](3,4)"
   ]
  },
  {
   "cell_type": "code",
   "execution_count": 129,
   "id": "fc6d1aa7",
   "metadata": {},
   "outputs": [
    {
     "data": {
      "text/plain": [
       "24"
      ]
     },
     "execution_count": 129,
     "metadata": {},
     "output_type": "execute_result"
    }
   ],
   "source": [
    "dizionario[1](4,6)"
   ]
  },
  {
   "cell_type": "markdown",
   "id": "b611d6ad",
   "metadata": {},
   "source": [
    "PAG 73 NUM 3 scrivi un programma che permette di effettuare le 4 operazioni aritmetiche.\n",
    "\n",
    "quale operazione vuole\n",
    "\n",
    "0: somma 1: sott 2: moltiplicazione 3: divisione\n",
    "\n",
    "l'utente passa i numeri \n"
   ]
  },
  {
   "cell_type": "code",
   "execution_count": 139,
   "id": "9bcc5269",
   "metadata": {},
   "outputs": [],
   "source": [
    "operazione = 1\n",
    "n1 = 8\n",
    "n2 = 4"
   ]
  },
  {
   "cell_type": "code",
   "execution_count": 140,
   "id": "3cb3ff38",
   "metadata": {},
   "outputs": [],
   "source": [
    "def somma(a, b):\n",
    "    return a + b"
   ]
  },
  {
   "cell_type": "code",
   "execution_count": 141,
   "id": "53ea7995",
   "metadata": {},
   "outputs": [],
   "source": [
    "def moltiplicazione(a, b):\n",
    "    return a * b"
   ]
  },
  {
   "cell_type": "code",
   "execution_count": 142,
   "id": "368883c5",
   "metadata": {},
   "outputs": [],
   "source": [
    "def sottrazione(a, b):\n",
    "    return a-b"
   ]
  },
  {
   "cell_type": "code",
   "execution_count": 143,
   "id": "10553c7d",
   "metadata": {},
   "outputs": [],
   "source": [
    "def divisione(a,b):\n",
    "    return a/b"
   ]
  },
  {
   "cell_type": "code",
   "execution_count": 144,
   "id": "7a8acea2",
   "metadata": {},
   "outputs": [],
   "source": [
    "diz = {0:somma, 1:sottrazione, 2:moltiplicazione, 3:divisione}"
   ]
  },
  {
   "cell_type": "code",
   "execution_count": 145,
   "id": "105c9428",
   "metadata": {},
   "outputs": [
    {
     "data": {
      "text/plain": [
       "4"
      ]
     },
     "execution_count": 145,
     "metadata": {},
     "output_type": "execute_result"
    }
   ],
   "source": [
    "diz[operazione](n1,n2)"
   ]
  },
  {
   "cell_type": "code",
   "execution_count": null,
   "id": "a8657e22",
   "metadata": {},
   "outputs": [],
   "source": []
  }
 ],
 "metadata": {
  "kernelspec": {
   "display_name": "Python 3 (ipykernel)",
   "language": "python",
   "name": "python3"
  },
  "language_info": {
   "codemirror_mode": {
    "name": "ipython",
    "version": 3
   },
   "file_extension": ".py",
   "mimetype": "text/x-python",
   "name": "python",
   "nbconvert_exporter": "python",
   "pygments_lexer": "ipython3",
   "version": "3.9.12"
  }
 },
 "nbformat": 4,
 "nbformat_minor": 5
}
