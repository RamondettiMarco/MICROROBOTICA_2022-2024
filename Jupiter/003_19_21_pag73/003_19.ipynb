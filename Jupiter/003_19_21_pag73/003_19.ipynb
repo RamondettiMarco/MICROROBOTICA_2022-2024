{
 "cells": [
  {
   "cell_type": "markdown",
   "id": "44496afc",
   "metadata": {},
   "source": [
    "### Esercizio 19 pagin 73\n",
    "Utilizza il modulo RANDOM per simulare 10 lanci di un dado per Alice e 10 lanci di un dado per Bob,  mediante le list comprehension. Il dado è a 6 facce. Salva i lanci all'interno di un file, su 10 righe, in cui la prima colonna corrisponde ai lanci di Alice e la seconda a quelli di Bob. Utilizza la virgola come separatore all'interno delle righe."
   ]
  },
  {
   "cell_type": "code",
   "execution_count": 36,
   "id": "2d976b0c",
   "metadata": {},
   "outputs": [],
   "source": [
    "import random\n",
    "import csv\n",
    "import pandas as pd"
   ]
  },
  {
   "cell_type": "code",
   "execution_count": 39,
   "id": "2b7ba681",
   "metadata": {},
   "outputs": [],
   "source": [
    "list_alice = [random.randint(0, 7) for i in range(0, 10) ]"
   ]
  },
  {
   "cell_type": "code",
   "execution_count": 40,
   "id": "a58337c4",
   "metadata": {},
   "outputs": [
    {
     "data": {
      "text/plain": [
       "[3, 7, 6, 6, 3, 4, 2, 1, 6, 5]"
      ]
     },
     "execution_count": 40,
     "metadata": {},
     "output_type": "execute_result"
    }
   ],
   "source": [
    "list_alice"
   ]
  },
  {
   "cell_type": "code",
   "execution_count": 41,
   "id": "be61bc6a",
   "metadata": {},
   "outputs": [],
   "source": [
    "list_bob = [random.randint(0, 7) for i in range(0, 10) ]"
   ]
  },
  {
   "cell_type": "code",
   "execution_count": 42,
   "id": "eafe922c",
   "metadata": {},
   "outputs": [
    {
     "data": {
      "text/plain": [
       "[4, 2, 6, 0, 4, 0, 1, 2, 4, 3]"
      ]
     },
     "execution_count": 42,
     "metadata": {},
     "output_type": "execute_result"
    }
   ],
   "source": [
    "list_bob"
   ]
  },
  {
   "cell_type": "code",
   "execution_count": 43,
   "id": "8360e5cc",
   "metadata": {},
   "outputs": [],
   "source": [
    "def clear_create_file():\n",
    "    #svuoto il file csv\n",
    "    with open('lanci_dado.csv', 'w') as filecsv:\n",
    "        writer = csv.writer(filecsv)\n",
    "        writer.writerow([\"LANCI ALICE\", \"LANCI BOB\"])\n",
    "        filecsv.close()"
   ]
  },
  {
   "cell_type": "code",
   "execution_count": 44,
   "id": "30991f56",
   "metadata": {},
   "outputs": [],
   "source": [
    "def to_file(lanciAlice, lanciBob):\n",
    "    with open('lanci_dado.csv', 'a') as filecsv:\n",
    "        writer = csv.writer(filecsv)\n",
    "        dati = (lanciAlice, lanciBob)\n",
    "        writer.writerow(dati)\n",
    "        filecsv.close()"
   ]
  },
  {
   "cell_type": "code",
   "execution_count": 45,
   "id": "6517f7eb",
   "metadata": {},
   "outputs": [],
   "source": [
    "clear_create_file()"
   ]
  },
  {
   "cell_type": "code",
   "execution_count": 46,
   "id": "fbf63e35",
   "metadata": {},
   "outputs": [],
   "source": [
    "#to_file(list_alice, list_bob)\n",
    "for i in range(len(list_alice)):\n",
    "    to_file(list_alice[i], list_bob[i])"
   ]
  },
  {
   "cell_type": "code",
   "execution_count": 47,
   "id": "d4e44efb",
   "metadata": {},
   "outputs": [],
   "source": [
    "file = pd.read_csv('lanci_dado.csv')"
   ]
  },
  {
   "cell_type": "code",
   "execution_count": 48,
   "id": "c8495595",
   "metadata": {},
   "outputs": [
    {
     "data": {
      "text/html": [
       "<div>\n",
       "<style scoped>\n",
       "    .dataframe tbody tr th:only-of-type {\n",
       "        vertical-align: middle;\n",
       "    }\n",
       "\n",
       "    .dataframe tbody tr th {\n",
       "        vertical-align: top;\n",
       "    }\n",
       "\n",
       "    .dataframe thead th {\n",
       "        text-align: right;\n",
       "    }\n",
       "</style>\n",
       "<table border=\"1\" class=\"dataframe\">\n",
       "  <thead>\n",
       "    <tr style=\"text-align: right;\">\n",
       "      <th></th>\n",
       "      <th>LANCI ALICE</th>\n",
       "      <th>LANCI BOB</th>\n",
       "    </tr>\n",
       "  </thead>\n",
       "  <tbody>\n",
       "    <tr>\n",
       "      <th>0</th>\n",
       "      <td>3</td>\n",
       "      <td>4</td>\n",
       "    </tr>\n",
       "    <tr>\n",
       "      <th>1</th>\n",
       "      <td>7</td>\n",
       "      <td>2</td>\n",
       "    </tr>\n",
       "    <tr>\n",
       "      <th>2</th>\n",
       "      <td>6</td>\n",
       "      <td>6</td>\n",
       "    </tr>\n",
       "    <tr>\n",
       "      <th>3</th>\n",
       "      <td>6</td>\n",
       "      <td>0</td>\n",
       "    </tr>\n",
       "    <tr>\n",
       "      <th>4</th>\n",
       "      <td>3</td>\n",
       "      <td>4</td>\n",
       "    </tr>\n",
       "    <tr>\n",
       "      <th>5</th>\n",
       "      <td>4</td>\n",
       "      <td>0</td>\n",
       "    </tr>\n",
       "    <tr>\n",
       "      <th>6</th>\n",
       "      <td>2</td>\n",
       "      <td>1</td>\n",
       "    </tr>\n",
       "    <tr>\n",
       "      <th>7</th>\n",
       "      <td>1</td>\n",
       "      <td>2</td>\n",
       "    </tr>\n",
       "    <tr>\n",
       "      <th>8</th>\n",
       "      <td>6</td>\n",
       "      <td>4</td>\n",
       "    </tr>\n",
       "    <tr>\n",
       "      <th>9</th>\n",
       "      <td>5</td>\n",
       "      <td>3</td>\n",
       "    </tr>\n",
       "  </tbody>\n",
       "</table>\n",
       "</div>"
      ],
      "text/plain": [
       "   LANCI ALICE  LANCI BOB\n",
       "0            3          4\n",
       "1            7          2\n",
       "2            6          6\n",
       "3            6          0\n",
       "4            3          4\n",
       "5            4          0\n",
       "6            2          1\n",
       "7            1          2\n",
       "8            6          4\n",
       "9            5          3"
      ]
     },
     "execution_count": 48,
     "metadata": {},
     "output_type": "execute_result"
    }
   ],
   "source": [
    "file"
   ]
  },
  {
   "cell_type": "code",
   "execution_count": null,
   "id": "eaf502bb",
   "metadata": {},
   "outputs": [],
   "source": []
  }
 ],
 "metadata": {
  "kernelspec": {
   "display_name": "Python 3 (ipykernel)",
   "language": "python",
   "name": "python3"
  },
  "language_info": {
   "codemirror_mode": {
    "name": "ipython",
    "version": 3
   },
   "file_extension": ".py",
   "mimetype": "text/x-python",
   "name": "python",
   "nbconvert_exporter": "python",
   "pygments_lexer": "ipython3",
   "version": "3.9.12"
  }
 },
 "nbformat": 4,
 "nbformat_minor": 5
}
