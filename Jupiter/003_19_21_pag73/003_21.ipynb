{
 "cells": [
  {
   "cell_type": "markdown",
   "id": "f7aaf2b2",
   "metadata": {},
   "source": [
    "### Esercizio 21 pagina 73\n",
    "Utilizza le list comprehension per creare una funziona che rimuova tutte le vocali presenti in una stringa"
   ]
  },
  {
   "cell_type": "code",
   "execution_count": 20,
   "id": "0c6629b6",
   "metadata": {},
   "outputs": [],
   "source": [
    "lista_vocali = ['a', 'e', 'i', 'o', 'u']"
   ]
  },
  {
   "cell_type": "code",
   "execution_count": 21,
   "id": "ca8cf366",
   "metadata": {},
   "outputs": [],
   "source": [
    "stringa = \"hfgsjfbkcbdbatuarwdga\""
   ]
  },
  {
   "cell_type": "code",
   "execution_count": 26,
   "id": "bd0ec05b",
   "metadata": {},
   "outputs": [],
   "source": [
    "list = [lettera for lettera in stringa if lettera not in lista_vocali]"
   ]
  },
  {
   "cell_type": "code",
   "execution_count": 27,
   "id": "f26341d2",
   "metadata": {},
   "outputs": [
    {
     "data": {
      "text/plain": [
       "['h',\n",
       " 'f',\n",
       " 'g',\n",
       " 's',\n",
       " 'j',\n",
       " 'f',\n",
       " 'b',\n",
       " 'k',\n",
       " 'c',\n",
       " 'b',\n",
       " 'd',\n",
       " 'b',\n",
       " 't',\n",
       " 'r',\n",
       " 'w',\n",
       " 'd',\n",
       " 'g']"
      ]
     },
     "execution_count": 27,
     "metadata": {},
     "output_type": "execute_result"
    }
   ],
   "source": [
    "list"
   ]
  },
  {
   "cell_type": "code",
   "execution_count": 32,
   "id": "6789d47c",
   "metadata": {},
   "outputs": [
    {
     "data": {
      "text/plain": [
       "'hfgsjfbkcbdbtrwdg'"
      ]
     },
     "execution_count": 32,
     "metadata": {},
     "output_type": "execute_result"
    }
   ],
   "source": [
    "\"\".join(list)"
   ]
  },
  {
   "cell_type": "code",
   "execution_count": null,
   "id": "2c0e5994",
   "metadata": {},
   "outputs": [],
   "source": []
  }
 ],
 "metadata": {
  "kernelspec": {
   "display_name": "Python 3 (ipykernel)",
   "language": "python",
   "name": "python3"
  },
  "language_info": {
   "codemirror_mode": {
    "name": "ipython",
    "version": 3
   },
   "file_extension": ".py",
   "mimetype": "text/x-python",
   "name": "python",
   "nbconvert_exporter": "python",
   "pygments_lexer": "ipython3",
   "version": "3.9.12"
  }
 },
 "nbformat": 4,
 "nbformat_minor": 5
}
