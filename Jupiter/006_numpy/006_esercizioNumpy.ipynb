{
 "cells": [
  {
   "cell_type": "code",
   "execution_count": 3,
   "id": "5455851a",
   "metadata": {},
   "outputs": [],
   "source": [
    "import numpy as np"
   ]
  },
  {
   "cell_type": "markdown",
   "id": "d39faf66",
   "metadata": {},
   "source": [
    "## Esercizio 1\n",
    "\n",
    "Creare un array 1d del tipo [0,1,0,1,0,1,0,1,0,1,0...]"
   ]
  },
  {
   "cell_type": "code",
   "execution_count": 2,
   "id": "3e2a07f7",
   "metadata": {},
   "outputs": [],
   "source": [
    "n = 1000000"
   ]
  },
  {
   "cell_type": "code",
   "execution_count": 43,
   "id": "88761f84",
   "metadata": {},
   "outputs": [
    {
     "data": {
      "text/plain": [
       "array([1, 0, 1, 0, 1, 0, 1, 0], dtype=int8)"
      ]
     },
     "execution_count": 43,
     "metadata": {},
     "output_type": "execute_result"
    }
   ],
   "source": [
    "#%%timeit    #FUNZIONE MAGICA -> calcolo il tempo della cella\n",
    "#numpy\n",
    "array_1d = np.zeros(n, dtype = np.int8)      #array di interi\n",
    "array_1d[::2] = 1      #[0:n:2]\n",
    "array_1d"
   ]
  },
  {
   "cell_type": "code",
   "execution_count": 44,
   "id": "1afa6b61",
   "metadata": {},
   "outputs": [
    {
     "data": {
      "text/plain": [
       "[0, 1, 0, 1, 0, 1, 0, 1, 0, 1]"
      ]
     },
     "execution_count": 44,
     "metadata": {},
     "output_type": "execute_result"
    }
   ],
   "source": [
    "#%%timeit\n",
    "#python\n",
    "l = [i%2 for i in range(0,n)]\n",
    "l"
   ]
  },
  {
   "cell_type": "markdown",
   "id": "f63feb6b",
   "metadata": {},
   "source": [
    "## Esercizio 2\n",
    "\n",
    "matrice con zeri e uni che si alternano"
   ]
  },
  {
   "cell_type": "code",
   "execution_count": 25,
   "id": "7990494f",
   "metadata": {},
   "outputs": [],
   "source": [
    "n = 8\n",
    "m = 8"
   ]
  },
  {
   "cell_type": "code",
   "execution_count": 38,
   "id": "88c41f47",
   "metadata": {},
   "outputs": [
    {
     "data": {
      "text/plain": [
       "array([[0, 0, 0, 0, 0, 0, 0, 0],\n",
       "       [0, 0, 0, 0, 0, 0, 0, 0],\n",
       "       [0, 0, 0, 0, 0, 0, 0, 0],\n",
       "       [0, 0, 0, 0, 0, 0, 0, 0],\n",
       "       [0, 0, 0, 0, 0, 0, 0, 0],\n",
       "       [0, 0, 0, 0, 0, 0, 0, 0],\n",
       "       [0, 0, 0, 0, 0, 0, 0, 0],\n",
       "       [0, 0, 0, 0, 0, 0, 0, 0]], dtype=int8)"
      ]
     },
     "execution_count": 38,
     "metadata": {},
     "output_type": "execute_result"
    }
   ],
   "source": [
    "array_2d = np.zeros((n,m), np.int8)\n",
    "array_2d"
   ]
  },
  {
   "cell_type": "code",
   "execution_count": 39,
   "id": "a669acdf",
   "metadata": {},
   "outputs": [],
   "source": [
    "array_2d[::2,::2] = 1\n",
    "#array_2d[::1,1::2] = 1"
   ]
  },
  {
   "cell_type": "code",
   "execution_count": 40,
   "id": "f29b3df5",
   "metadata": {},
   "outputs": [
    {
     "data": {
      "text/plain": [
       "array([[1, 0, 1, 0, 1, 0, 1, 0],\n",
       "       [0, 0, 0, 0, 0, 0, 0, 0],\n",
       "       [1, 0, 1, 0, 1, 0, 1, 0],\n",
       "       [0, 0, 0, 0, 0, 0, 0, 0],\n",
       "       [1, 0, 1, 0, 1, 0, 1, 0],\n",
       "       [0, 0, 0, 0, 0, 0, 0, 0],\n",
       "       [1, 0, 1, 0, 1, 0, 1, 0],\n",
       "       [0, 0, 0, 0, 0, 0, 0, 0]], dtype=int8)"
      ]
     },
     "execution_count": 40,
     "metadata": {},
     "output_type": "execute_result"
    }
   ],
   "source": [
    "array_2d"
   ]
  },
  {
   "cell_type": "code",
   "execution_count": 41,
   "id": "045656eb",
   "metadata": {},
   "outputs": [],
   "source": [
    "array_2d[::1,2::1]=1"
   ]
  },
  {
   "cell_type": "code",
   "execution_count": 42,
   "id": "8b269aaf",
   "metadata": {},
   "outputs": [
    {
     "data": {
      "text/plain": [
       "array([[1, 0, 1, 1, 1, 1, 1, 1],\n",
       "       [0, 0, 1, 1, 1, 1, 1, 1],\n",
       "       [1, 0, 1, 1, 1, 1, 1, 1],\n",
       "       [0, 0, 1, 1, 1, 1, 1, 1],\n",
       "       [1, 0, 1, 1, 1, 1, 1, 1],\n",
       "       [0, 0, 1, 1, 1, 1, 1, 1],\n",
       "       [1, 0, 1, 1, 1, 1, 1, 1],\n",
       "       [0, 0, 1, 1, 1, 1, 1, 1]], dtype=int8)"
      ]
     },
     "execution_count": 42,
     "metadata": {},
     "output_type": "execute_result"
    }
   ],
   "source": [
    "array_2d"
   ]
  },
  {
   "cell_type": "code",
   "execution_count": null,
   "id": "e5ede588",
   "metadata": {},
   "outputs": [],
   "source": []
  },
  {
   "cell_type": "code",
   "execution_count": null,
   "id": "8eff5f4e",
   "metadata": {},
   "outputs": [],
   "source": []
  }
 ],
 "metadata": {
  "kernelspec": {
   "display_name": "Python 3 (ipykernel)",
   "language": "python",
   "name": "python3"
  },
  "language_info": {
   "codemirror_mode": {
    "name": "ipython",
    "version": 3
   },
   "file_extension": ".py",
   "mimetype": "text/x-python",
   "name": "python",
   "nbconvert_exporter": "python",
   "pygments_lexer": "ipython3",
   "version": "3.9.12"
  }
 },
 "nbformat": 4,
 "nbformat_minor": 5
}
