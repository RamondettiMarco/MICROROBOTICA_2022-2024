{
 "cells": [
  {
   "cell_type": "markdown",
   "id": "61891534",
   "metadata": {},
   "source": [
    "### Esercizio 9 pagina 107"
   ]
  },
  {
   "cell_type": "code",
   "execution_count": 1,
   "id": "7496f63f",
   "metadata": {},
   "outputs": [],
   "source": [
    "import numpy as np"
   ]
  },
  {
   "cell_type": "code",
   "execution_count": 33,
   "id": "31a7e223",
   "metadata": {},
   "outputs": [],
   "source": [
    "lanci = 10\n",
    "partite = 30"
   ]
  },
  {
   "cell_type": "code",
   "execution_count": 34,
   "id": "f2bb60aa",
   "metadata": {},
   "outputs": [],
   "source": [
    "array_alice = np.random.randint(1,7, size = lanci*partite)\n",
    "array_bob = np.random.randint(1,7, size = lanci*partite)   "
   ]
  },
  {
   "cell_type": "code",
   "execution_count": 35,
   "id": "240c837a",
   "metadata": {},
   "outputs": [
    {
     "name": "stdout",
     "output_type": "stream",
     "text": [
      "[2 5 4 5 2 2 1 2 6 2 1 4 1 3 5 1 1 5 2 3 5 4 1 5 4 4 5 2 1 2 4 4 4 2 6 6 4\n",
      " 6 1 4 6 2 5 6 4 3 1 1 6 5 5 3 1 2 2 3 4 2 3 5 5 6 1 5 1 1 4 3 4 6 5 6 5 3\n",
      " 4 3 2 1 4 5 5 4 3 6 5 4 4 3 2 3 5 2 3 5 3 2 3 4 6 1 6 6 3 5 3 2 6 1 1 2 5\n",
      " 2 1 4 3 1 5 5 4 1 3 4 2 5 2 3 5 2 1 3 2 3 2 6 6 2 1 5 1 4 1 6 3 1 2 1 1 1\n",
      " 3 5 6 1 4 6 3 1 5 3 4 3 1 2 2 4 3 5 1 3 2 4 3 3 6 6 5 6 5 1 5 5 3 2 1 2 4\n",
      " 5 3 6 6 3 1 6 5 3 2 1 3 3 4 2 1 3 3 2 3 3 1 1 1 2 2 3 1 2 5 2 5 2 2 2 5 1\n",
      " 1 4 6 1 4 6 5 3 3 6 1 4 4 1 6 5 6 4 3 1 6 5 6 6 4 4 5 4 3 1 2 4 4 4 5 6 1\n",
      " 3 2 3 3 3 2 2 2 2 6 1 3 6 3 5 1 2 3 5 1 6 2 3 3 6 5 1 1 4 1 5 6 2 3 6 3 6\n",
      " 2 4 6 5]\n",
      "[6 5 1 4 3 3 5 2 5 6 1 3 4 4 3 4 2 2 6 5 3 4 2 6 4 5 4 2 2 6 5 6 5 4 6 1 4\n",
      " 1 3 6 5 5 3 5 6 4 2 3 5 6 4 6 2 4 3 5 5 3 4 5 5 4 2 5 5 3 6 4 6 2 6 6 5 6\n",
      " 2 5 1 1 3 4 5 1 5 6 1 6 4 5 1 5 2 5 1 6 6 1 5 2 6 6 6 5 5 3 1 3 4 4 2 3 2\n",
      " 5 5 1 5 3 1 6 2 1 5 4 5 6 6 6 2 5 5 5 5 1 5 4 4 1 6 3 5 6 3 2 4 5 6 5 6 6\n",
      " 5 6 5 4 4 4 3 5 2 5 5 6 3 2 2 6 6 2 3 5 6 4 5 5 4 5 1 5 6 2 3 6 5 2 6 5 5\n",
      " 2 6 6 5 6 5 5 5 4 3 3 5 6 4 6 6 6 3 6 4 6 3 5 5 4 4 6 5 3 2 5 6 5 1 6 6 1\n",
      " 1 2 2 6 6 5 1 1 5 5 6 4 3 5 2 1 3 1 5 1 4 5 4 5 4 3 3 1 5 6 6 4 3 5 5 6 5\n",
      " 1 6 2 4 1 3 3 5 5 2 5 6 4 1 5 3 2 2 4 2 2 1 5 1 6 6 3 2 1 1 5 6 5 5 3 4 2\n",
      " 1 5 4 2]\n"
     ]
    }
   ],
   "source": [
    "print(array_alice)\n",
    "print(array_bob)"
   ]
  },
  {
   "cell_type": "markdown",
   "id": "9270b593",
   "metadata": {},
   "source": [
    "#### Pareggio tra Alice e Bob"
   ]
  },
  {
   "cell_type": "code",
   "execution_count": 36,
   "id": "f0afd104",
   "metadata": {},
   "outputs": [
    {
     "name": "stdout",
     "output_type": "stream",
     "text": [
      "Alice e Bob pareggiano per 46 lanci.\n"
     ]
    }
   ],
   "source": [
    "pareggio = array_alice==array_bob\n",
    "print(f\"Alice e Bob pareggiano per {array_bob[pareggio].size} lanci.\")"
   ]
  },
  {
   "cell_type": "markdown",
   "id": "3c54bb5e",
   "metadata": {},
   "source": [
    "#### Punteggio vincite Bob"
   ]
  },
  {
   "cell_type": "code",
   "execution_count": 37,
   "id": "33c8ec7c",
   "metadata": {},
   "outputs": [
    {
     "name": "stdout",
     "output_type": "stream",
     "text": [
      "Bob vince 162 lanci.\n",
      "Bob vince 185.0 lanci. (con pareggio)\n"
     ]
    }
   ],
   "source": [
    "bob_vince = array_bob>array_alice\n",
    "print(f\"Bob vince {array_bob[bob_vince].size} lanci.\")\n",
    "\n",
    "bob_vince = array_bob[bob_vince].size + array_bob[pareggio].size/2\n",
    "print(f\"Bob vince {bob_vince} lanci. (con pareggio)\")"
   ]
  },
  {
   "cell_type": "markdown",
   "id": "b0aa8ee1",
   "metadata": {},
   "source": [
    "#### Punteggio vincite Alice"
   ]
  },
  {
   "cell_type": "code",
   "execution_count": 38,
   "id": "b9b50745",
   "metadata": {},
   "outputs": [
    {
     "name": "stdout",
     "output_type": "stream",
     "text": [
      "Alice vince 92 lanci.\n",
      "Alice vince 115.0 lanci. (con pareggio)\n"
     ]
    }
   ],
   "source": [
    "alice_vince = array_alice > array_bob\n",
    "print(f\"Alice vince {array_alice[alice_vince].size} lanci.\")\n",
    "alice_vince = array_alice[alice_vince].size + array_alice[pareggio].size/2\n",
    "print(f\"Alice vince {alice_vince} lanci. (con pareggio)\")"
   ]
  },
  {
   "cell_type": "markdown",
   "id": "58f5b2ef",
   "metadata": {},
   "source": [
    "#### Dado truccato del giocatore Bob"
   ]
  },
  {
   "cell_type": "code",
   "execution_count": 27,
   "id": "d8e12661",
   "metadata": {},
   "outputs": [],
   "source": [
    "#probabilita 1/6 a tutti i valori se il dato non è truccato\n",
    "#la probabilità totale deve essere sempre 6 --> 1/8 per 1,2,3,4. 1/4 per 5,6\n",
    "array_bob = np.random.choice([1, 2, 3, 4, 5, 6], lanci*partite, p = [1/8, 1/8, 1/8, 1/8, 1/4, 1/4])     "
   ]
  },
  {
   "cell_type": "code",
   "execution_count": 21,
   "id": "ee4b132c",
   "metadata": {},
   "outputs": [
    {
     "data": {
      "text/plain": [
       "array([6, 4, 5, 2, 6, 5, 5, 1, 4, 5, 6, 5, 3, 4, 2, 3, 1, 5, 5, 2, 1, 5,\n",
       "       3, 6, 5, 4, 4, 1, 3, 6, 1, 6, 6, 5, 4, 6, 4, 5, 1, 6, 1, 5, 5, 6,\n",
       "       3, 4, 1, 5, 2, 5, 6, 2, 6, 5, 3, 5, 4, 6, 6, 6, 2, 5, 2, 5, 3, 5,\n",
       "       6, 5, 2, 4, 6, 1, 5, 2, 1, 1, 5, 5, 6, 6, 6, 6, 5, 5, 6, 1, 5, 5,\n",
       "       4, 1, 3, 2, 5, 5, 6, 6, 5, 6, 6, 4])"
      ]
     },
     "execution_count": 21,
     "metadata": {},
     "output_type": "execute_result"
    }
   ],
   "source": [
    "array_bob"
   ]
  },
  {
   "cell_type": "code",
   "execution_count": null,
   "id": "29168a25",
   "metadata": {},
   "outputs": [],
   "source": []
  }
 ],
 "metadata": {
  "kernelspec": {
   "display_name": "Python 3 (ipykernel)",
   "language": "python",
   "name": "python3"
  },
  "language_info": {
   "codemirror_mode": {
    "name": "ipython",
    "version": 3
   },
   "file_extension": ".py",
   "mimetype": "text/x-python",
   "name": "python",
   "nbconvert_exporter": "python",
   "pygments_lexer": "ipython3",
   "version": "3.9.12"
  }
 },
 "nbformat": 4,
 "nbformat_minor": 5
}
