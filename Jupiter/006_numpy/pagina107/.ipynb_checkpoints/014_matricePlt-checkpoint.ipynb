{
 "cells": [
  {
   "cell_type": "markdown",
   "id": "77aee7d6",
   "metadata": {},
   "source": [
    "### Esercizio 12 pagina 107"
   ]
  },
  {
   "cell_type": "code",
   "execution_count": 2,
   "id": "5483568f",
   "metadata": {},
   "outputs": [],
   "source": [
    "import numpy as np\n",
    "import matplotlib.pyplot as plt"
   ]
  },
  {
   "cell_type": "code",
   "execution_count": 3,
   "id": "dde1f434",
   "metadata": {},
   "outputs": [
    {
     "data": {
      "text/plain": [
       "array([[1., 1., 1., ..., 1., 1., 1.],\n",
       "       [1., 1., 1., ..., 1., 1., 1.],\n",
       "       [1., 1., 1., ..., 1., 1., 1.],\n",
       "       ...,\n",
       "       [1., 1., 1., ..., 1., 1., 1.],\n",
       "       [1., 1., 1., ..., 1., 1., 1.],\n",
       "       [1., 1., 1., ..., 1., 1., 1.]])"
      ]
     },
     "execution_count": 3,
     "metadata": {},
     "output_type": "execute_result"
    }
   ],
   "source": [
    "dim = 200\n",
    "immagine = np.random.uniform(0., 1., (dim, dim))\n",
    "immagine = np.ones((dim,dim))      #immagine = np.zeros((dim,dim))\n",
    "immagine"
   ]
  },
  {
   "cell_type": "code",
   "execution_count": 4,
   "id": "46db8531",
   "metadata": {},
   "outputs": [
    {
     "data": {
      "text/plain": [
       "<matplotlib.image.AxesImage at 0x2015c0907f0>"
      ]
     },
     "execution_count": 4,
     "metadata": {},
     "output_type": "execute_result"
    },
    {
     "data": {
      "image/png": "[encoded data removed]",
      "text/plain": [
       "<Figure size 432x288 with 1 Axes>"
      ]
     },
     "metadata": {
      "needs_background": "light"
     },
     "output_type": "display_data"
    }
   ],
   "source": [
    "plt.imshow(immagine, cmap=\"Greys\", vmin=0, vmax=1)         #lo 0 è il bianco, l'1 è il nero"
   ]
  },
  {
   "cell_type": "code",
   "execution_count": 5,
   "id": "2646d6a1",
   "metadata": {},
   "outputs": [],
   "source": [
    "immagine = np.ones((dim,dim))     #ricreo ogni volta l'immagine se no tiene in memoria le modifiche\n",
    "immagine[:, 50] = 0            #uso slicing per colorare"
   ]
  },
  {
   "cell_type": "code",
   "execution_count": 6,
   "id": "b771ea2c",
   "metadata": {},
   "outputs": [
    {
     "data": {
      "text/plain": [
       "<matplotlib.image.AxesImage at 0x2015c836310>"
      ]
     },
     "execution_count": 6,
     "metadata": {},
     "output_type": "execute_result"
    },
    {
     "data": {
      "image/png": "[encoded data removed]",
      "text/plain": [
       "<Figure size 432x288 with 1 Axes>"
      ]
     },
     "metadata": {
      "needs_background": "light"
     },
     "output_type": "display_data"
    }
   ],
   "source": [
    "plt.imshow(immagine, cmap=\"Greys\", vmin=0, vmax=1)        "
   ]
  },
  {
   "cell_type": "code",
   "execution_count": 7,
   "id": "25f4bc70",
   "metadata": {},
   "outputs": [
    {
     "data": {
      "text/plain": [
       "<matplotlib.image.AxesImage at 0x2015c8b4160>"
      ]
     },
     "execution_count": 7,
     "metadata": {},
     "output_type": "execute_result"
    },
    {
     "data": {
      "image/png": "[encoded data removed]",
      "text/plain": [
       "<Figure size 432x288 with 1 Axes>"
      ]
     },
     "metadata": {
      "needs_background": "light"
     },
     "output_type": "display_data"
    }
   ],
   "source": [
    "immagine = np.ones((dim,dim))     #ricreo ogni volta l'immagine se no tiene in memoria le modifiche\n",
    "immagine[:, 10:50] = 0            #uso slicing per colorare\n",
    "plt.imshow(immagine, cmap=\"Greys\", vmin=0, vmax=1)        "
   ]
  },
  {
   "cell_type": "code",
   "execution_count": 8,
   "id": "639776b3",
   "metadata": {},
   "outputs": [
    {
     "data": {
      "text/plain": [
       "<matplotlib.image.AxesImage at 0x2015d8e8550>"
      ]
     },
     "execution_count": 8,
     "metadata": {},
     "output_type": "execute_result"
    },
    {
     "data": {
      "image/png": "[encoded data removed]",
      "text/plain": [
       "<Figure size 432x288 with 1 Axes>"
      ]
     },
     "metadata": {
      "needs_background": "light"
     },
     "output_type": "display_data"
    }
   ],
   "source": [
    "#creo un quadrato che parte da cordinata (10,10) con lato 40\n",
    "immagine = np.ones((dim,dim))     #ricreo ogni volta l'immagine se no tiene in memoria le modifiche\n",
    "immagine[10:50, 10:50] = 0            #uso slicing per colorare\n",
    "plt.imshow(immagine, cmap=\"Greys\", vmin=0, vmax=1)    "
   ]
  },
  {
   "cell_type": "code",
   "execution_count": 9,
   "id": "6f3cf1bf",
   "metadata": {},
   "outputs": [
    {
     "data": {
      "text/plain": [
       "<matplotlib.image.AxesImage at 0x2015d953a90>"
      ]
     },
     "execution_count": 9,
     "metadata": {},
     "output_type": "execute_result"
    },
    {
     "data": {
      "image/png": "[encoded data removed]",
      "text/plain": [
       "<Figure size 432x288 with 1 Axes>"
      ]
     },
     "metadata": {
      "needs_background": "light"
     },
     "output_type": "display_data"
    }
   ],
   "source": [
    "#quadrati di lato 50\n",
    "immagine = np.ones((dim,dim))     #ricreo ogni volta l'immagine se no tiene in memoria le modifiche\n",
    "immagine[0:50, 0:50] = 0            #uso slicing per colorare\n",
    "plt.imshow(immagine, cmap=\"Greys\", vmin=0, vmax=1) "
   ]
  },
  {
   "cell_type": "code",
   "execution_count": 26,
   "id": "77e38f26",
   "metadata": {},
   "outputs": [
    {
     "data": {
      "text/plain": [
       "<matplotlib.image.AxesImage at 0x2015ef78070>"
      ]
     },
     "execution_count": 26,
     "metadata": {},
     "output_type": "execute_result"
    },
    {
     "data": {
      "image/png": "[encoded data removed]",
      "text/plain": [
       "<Figure size 432x288 with 1 Axes>"
      ]
     },
     "metadata": {
      "needs_background": "light"
     },
     "output_type": "display_data"
    }
   ],
   "source": [
    "immagine = np.ones((dim,dim))     #ricreo ogni volta l'immagine se no tiene in memoria le modifiche\n",
    "#prima riga\n",
    "immagine[0:50, 0:50] = 0\n",
    "immagine[0:50, 100:150] = 0\n",
    "#seconda riga\n",
    "immagine[50:100, 50:100] = 0\n",
    "immagine[50:100, 150:200] = 0\n",
    "#terza riga\n",
    "immagine[100:150, 0:50] = 0\n",
    "immagine[100:150, 100:150] = 0\n",
    "#quarta riga\n",
    "immagine[150:200, 150:200] = 0\n",
    "immagine[150:200, 50:100] = 0\n",
    "plt.imshow(immagine, cmap=\"Greys\", vmin=0, vmax=1) \n"
   ]
  },
  {
   "cell_type": "code",
   "execution_count": 27,
   "id": "975cb1a9",
   "metadata": {},
   "outputs": [
    {
     "data": {
      "text/plain": [
       "<matplotlib.image.AxesImage at 0x2015efde970>"
      ]
     },
     "execution_count": 27,
     "metadata": {},
     "output_type": "execute_result"
    },
    {
     "data": {
      "image/png": "[encoded data removed]",
      "text/plain": [
       "<Figure size 432x288 with 1 Axes>"
      ]
     },
     "metadata": {
      "needs_background": "light"
     },
     "output_type": "display_data"
    }
   ],
   "source": [
    "immagine = np.ones((dim,dim))     #ricreo ogni volta l'immagine se no tiene in memoria le modifiche\n",
    "\n",
    "posizioni = [0,50,100,150,200]\n",
    "\n",
    "for i in range(0, dim, 50):\n",
    "    immagine[posizioni[0]: posizioni[1], posizioni[0]: posizioni[1]] = 0\n",
    "    immagine[posizioni[0]: posizioni[1], posizioni[2]: posizioni[3]] = 0\n",
    "    immagine[posizioni[0]: posizioni[1], posizioni[3]: posizioni[4]] = 0\n",
    "      \n",
    "    posizioni = np.roll(posizioni, -1)\n",
    "        \n",
    "posizioni = np.roll(posizioni,-1)\n",
    "\n",
    "immagine[posizioni[0]:posizioni[1], posizioni[3]: posizioni[4]] = 1\n",
    "immagine[posizioni[3]:posizioni[4], posizioni[0]: posizioni[1]] = 1\n",
    "\n",
    "plt.imshow(immagine, cmap=\"Greys\", vmin=0, vmax=1) "
   ]
  },
  {
   "cell_type": "code",
   "execution_count": null,
   "id": "d6cfe4e7",
   "metadata": {},
   "outputs": [],
   "source": []
  },
  {
   "cell_type": "code",
   "execution_count": null,
   "id": "cca6c96c",
   "metadata": {},
   "outputs": [],
   "source": []
  },
  {
   "cell_type": "code",
   "execution_count": null,
   "id": "d4829a33",
   "metadata": {},
   "outputs": [],
   "source": []
  },
  {
   "cell_type": "code",
   "execution_count": null,
   "id": "da8d9571",
   "metadata": {},
   "outputs": [],
   "source": []
  }
 ],
 "metadata": {
  "kernelspec": {
   "display_name": "Python 3 (ipykernel)",
   "language": "python",
   "name": "python3"
  },
  "language_info": {
   "codemirror_mode": {
    "name": "ipython",
    "version": 3
   },
   "file_extension": ".py",
   "mimetype": "text/x-python",
   "name": "python",
   "nbconvert_exporter": "python",
   "pygments_lexer": "ipython3",
   "version": "3.9.12"
  }
 },
 "nbformat": 4,
 "nbformat_minor": 5
}
