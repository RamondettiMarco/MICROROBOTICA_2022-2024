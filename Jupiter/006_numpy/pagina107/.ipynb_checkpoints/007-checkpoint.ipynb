{
 "cells": [
  {
   "cell_type": "markdown",
   "id": "b3cd1df1",
   "metadata": {},
   "source": [
    "### Esercizio 7 pagina 107"
   ]
  },
  {
   "cell_type": "markdown",
   "id": "83f77fc7",
   "metadata": {},
   "source": [
    "due numeri sono gemelli se la loro differenza è uguale a 2. "
   ]
  },
  {
   "cell_type": "code",
   "execution_count": 35,
   "id": "30a4a6a4",
   "metadata": {},
   "outputs": [],
   "source": [
    "import numpy as np"
   ]
  },
  {
   "cell_type": "code",
   "execution_count": 36,
   "id": "828cd842",
   "metadata": {},
   "outputs": [],
   "source": [
    "def numeriPrimi(n, primi):\n",
    "    N = 2\n",
    "    while len(primi) < n:\n",
    "        div, count = 2, 0\n",
    "        while div <= N/2 and count == 0:\n",
    "            if N%div == 0:\n",
    "                count += 1\n",
    "            div += 1\n",
    "        if count == 0:\n",
    "            primi.append(N)    # se non ha divisori lo aggiungo\n",
    "        N += 1 "
   ]
  },
  {
   "cell_type": "code",
   "execution_count": 37,
   "id": "ecc54166",
   "metadata": {},
   "outputs": [],
   "source": [
    "array_primi = []\n",
    "n = 10000\n",
    "#numeriPrimi(n, lista_primi)"
   ]
  },
  {
   "cell_type": "markdown",
   "id": "4a6b0066",
   "metadata": {},
   "source": [
    "lista_primi"
   ]
  },
  {
   "cell_type": "code",
   "execution_count": 60,
   "id": "7a8646d2",
   "metadata": {
    "scrolled": true
   },
   "outputs": [
    {
     "name": "stdout",
     "output_type": "stream",
     "text": [
      "[   2    3    5 ... 9949 9967 9973]\n"
     ]
    }
   ],
   "source": [
    "#lista_primi = np.array(lista_primi)\n",
    "array_primi = np.array([x for x in range(2,n) if all(x%y != 0 for y in range(2,x))])\n",
    "print(array_primi)\n"
   ]
  },
  {
   "cell_type": "markdown",
   "id": "c18d417b",
   "metadata": {},
   "source": [
    "primi_gemelli= []\n",
    "for i in range(lista_primi.size-1):\n",
    "    if (lista_primi[i+1] - lista_primi[i]) == 2:\n",
    "        tupla_primi= (lista_primi[i], lista_primi[i+1])\n",
    "        primi_gemelli.append(tupla_primi)\n",
    "        \n",
    "print(primi_gemelli)"
   ]
  },
  {
   "cell_type": "code",
   "execution_count": 61,
   "id": "18a58acf",
   "metadata": {},
   "outputs": [],
   "source": [
    "array_gemelli = np.arange(0,n)"
   ]
  },
  {
   "cell_type": "code",
   "execution_count": 64,
   "id": "3fb72a53",
   "metadata": {},
   "outputs": [
    {
     "data": {
      "text/plain": [
       "array([False, False,  True, ..., False, False, False])"
      ]
     },
     "execution_count": 64,
     "metadata": {},
     "output_type": "execute_result"
    }
   ],
   "source": [
    "confronto = (array_primi - np.roll(array_primi, 1))== 2\n",
    "confronto"
   ]
  },
  {
   "cell_type": "code",
   "execution_count": 68,
   "id": "3d9fd17b",
   "metadata": {},
   "outputs": [
    {
     "data": {
      "text/plain": [
       "array([   5,    7,   13,   19,   31,   43,   61,   73,  103,  109,  139,\n",
       "        151,  181,  193,  199,  229,  241,  271,  283,  313,  349,  421,\n",
       "        433,  463,  523,  571,  601,  619,  643,  661,  811,  823,  829,\n",
       "        859,  883, 1021, 1033, 1051, 1063, 1093, 1153, 1231, 1279, 1291,\n",
       "       1303, 1321, 1429, 1453, 1483, 1489, 1609, 1621, 1669, 1699, 1723,\n",
       "       1789, 1873, 1879, 1933, 1951, 1999, 2029, 2083, 2089, 2113, 2131,\n",
       "       2143, 2239, 2269, 2311, 2341, 2383, 2551, 2593, 2659, 2689, 2713,\n",
       "       2731, 2791, 2803, 2971, 3001, 3121, 3169, 3253, 3259, 3301, 3331,\n",
       "       3361, 3373, 3391, 3463, 3469, 3529, 3541, 3559, 3583, 3673, 3769,\n",
       "       3823, 3853, 3919, 3931, 4003, 4021, 4051, 4093, 4129, 4159, 4219,\n",
       "       4231, 4243, 4261, 4273, 4339, 4423, 4483, 4519, 4549, 4639, 4651,\n",
       "       4723, 4789, 4801, 4933, 4969, 5011, 5023, 5101, 5233, 5281, 5419,\n",
       "       5443, 5479, 5503, 5521, 5641, 5653, 5659, 5743, 5851, 5869, 5881,\n",
       "       6091, 6133, 6199, 6271, 6301, 6361, 6451, 6553, 6571, 6661, 6691,\n",
       "       6703, 6763, 6781, 6793, 6829, 6871, 6949, 6961, 7129, 7213, 7309,\n",
       "       7333, 7351, 7459, 7489, 7549, 7561, 7591, 7759, 7879, 7951, 8011,\n",
       "       8089, 8221, 8233, 8293, 8389, 8431, 8539, 8599, 8629, 8821, 8839,\n",
       "       8863, 8971, 9001, 9013, 9043, 9241, 9283, 9343, 9421, 9433, 9439,\n",
       "       9463, 9631, 9679, 9721, 9769, 9859, 9931])"
      ]
     },
     "execution_count": 68,
     "metadata": {},
     "output_type": "execute_result"
    }
   ],
   "source": [
    "#secondo numero\n",
    "array_primi[confronto]"
   ]
  },
  {
   "cell_type": "code",
   "execution_count": 69,
   "id": "6cf47891",
   "metadata": {},
   "outputs": [
    {
     "data": {
      "text/plain": [
       "array([   3,    5,   11,   17,   29,   41,   59,   71,  101,  107,  137,\n",
       "        149,  179,  191,  197,  227,  239,  269,  281,  311,  347,  419,\n",
       "        431,  461,  521,  569,  599,  617,  641,  659,  809,  821,  827,\n",
       "        857,  881, 1019, 1031, 1049, 1061, 1091, 1151, 1229, 1277, 1289,\n",
       "       1301, 1319, 1427, 1451, 1481, 1487, 1607, 1619, 1667, 1697, 1721,\n",
       "       1787, 1871, 1877, 1931, 1949, 1997, 2027, 2081, 2087, 2111, 2129,\n",
       "       2141, 2237, 2267, 2309, 2339, 2381, 2549, 2591, 2657, 2687, 2711,\n",
       "       2729, 2789, 2801, 2969, 2999, 3119, 3167, 3251, 3257, 3299, 3329,\n",
       "       3359, 3371, 3389, 3461, 3467, 3527, 3539, 3557, 3581, 3671, 3767,\n",
       "       3821, 3851, 3917, 3929, 4001, 4019, 4049, 4091, 4127, 4157, 4217,\n",
       "       4229, 4241, 4259, 4271, 4337, 4421, 4481, 4517, 4547, 4637, 4649,\n",
       "       4721, 4787, 4799, 4931, 4967, 5009, 5021, 5099, 5231, 5279, 5417,\n",
       "       5441, 5477, 5501, 5519, 5639, 5651, 5657, 5741, 5849, 5867, 5879,\n",
       "       6089, 6131, 6197, 6269, 6299, 6359, 6449, 6551, 6569, 6659, 6689,\n",
       "       6701, 6761, 6779, 6791, 6827, 6869, 6947, 6959, 7127, 7211, 7307,\n",
       "       7331, 7349, 7457, 7487, 7547, 7559, 7589, 7757, 7877, 7949, 8009,\n",
       "       8087, 8219, 8231, 8291, 8387, 8429, 8537, 8597, 8627, 8819, 8837,\n",
       "       8861, 8969, 8999, 9011, 9041, 9239, 9281, 9341, 9419, 9431, 9437,\n",
       "       9461, 9629, 9677, 9719, 9767, 9857, 9929])"
      ]
     },
     "execution_count": 69,
     "metadata": {},
     "output_type": "execute_result"
    }
   ],
   "source": [
    "#primo numero\n",
    "array_primi[np.roll(confronto, -1)]"
   ]
  },
  {
   "cell_type": "code",
   "execution_count": null,
   "id": "181b33df",
   "metadata": {},
   "outputs": [],
   "source": []
  }
 ],
 "metadata": {
  "kernelspec": {
   "display_name": "Python 3 (ipykernel)",
   "language": "python",
   "name": "python3"
  },
  "language_info": {
   "codemirror_mode": {
    "name": "ipython",
    "version": 3
   },
   "file_extension": ".py",
   "mimetype": "text/x-python",
   "name": "python",
   "nbconvert_exporter": "python",
   "pygments_lexer": "ipython3",
   "version": "3.9.12"
  }
 },
 "nbformat": 4,
 "nbformat_minor": 5
}
